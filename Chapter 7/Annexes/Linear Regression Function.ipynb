{
 "cells": [
  {
   "cell_type": "markdown",
   "metadata": {},
   "source": [
    "# Linear Regression Function"
   ]
  },
  {
   "cell_type": "markdown",
   "metadata": {},
   "source": [
    "Works by sending the X and Y columns as parameters"
   ]
  },
  {
   "cell_type": "code",
   "execution_count": 2,
   "metadata": {},
   "outputs": [],
   "source": [
    "def linear_regression(x,y):\n",
    "    #Small control to test the nature of the parameters (Should be dataFrame columns)\n",
    "    if type(x) and type(y) is pd.Series:\n",
    "        print('Series')\n",
    "\n",
    "        df = pd.DataFrame()\n",
    "        df['X'] = x\n",
    "        df['Y'] = y\n",
    "        df['XY'] = df['X']*df['Y']\n",
    "        df['X_squared'] = df['X']*df['X']\n",
    "        df['Y_squared'] = df['Y']*df['Y']\n",
    "        #Let's make this more readable by putting each of the Numerator and Denominator\n",
    "        A = (df['Y'].sum() * df['X_squared'].sum()) - (df['X'].sum() * df['XY'].sum())\n",
    "        B = df.shape[0]*df['X_squared'].sum() -(df['X'].sum())**2\n",
    "        #We calculate the Y-intercept\n",
    "        y_intercept =  A/B\n",
    "\n",
    "        #We know calculate the slope\n",
    "        C = df.shape[0]*df['XY'].sum() - df['X'].sum()*df['Y'].sum()\n",
    "        D = df.shape[0]*df['X_squared'].sum() - (df['X'].sum())**2\n",
    "\n",
    "        #separating the Numerator and Denominator makes it more readable\n",
    "        slope = C/D\n",
    "\n",
    "        #Gives the whole table\n",
    "        #print(df)\n",
    "\n",
    "        return (slope,y_intercept)\n",
    "\n",
    "\n",
    "    else:\n",
    "        print('Type should should be Series (a dataframe column)')"
   ]
  },
  {
   "cell_type": "code",
   "execution_count": null,
   "metadata": {},
   "outputs": [],
   "source": []
  }
 ],
 "metadata": {
  "kernelspec": {
   "display_name": "Python 3",
   "language": "python",
   "name": "python3"
  },
  "language_info": {
   "codemirror_mode": {
    "name": "ipython",
    "version": 3
   },
   "file_extension": ".py",
   "mimetype": "text/x-python",
   "name": "python",
   "nbconvert_exporter": "python",
   "pygments_lexer": "ipython3",
   "version": "3.6.1"
  }
 },
 "nbformat": 4,
 "nbformat_minor": 2
}
