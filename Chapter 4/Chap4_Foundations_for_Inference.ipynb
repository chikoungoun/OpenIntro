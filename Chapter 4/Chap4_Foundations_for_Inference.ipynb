{
 "cells": [
  {
   "cell_type": "markdown",
   "metadata": {},
   "source": [
    "# Foundations for inference"
   ]
  },
  {
   "cell_type": "markdown",
   "metadata": {},
   "source": [
    "Statistical inference is concerned with understanding and  drawing conclusions out of data. Relying on the quality of parameter estimates."
   ]
  },
  {
   "cell_type": "markdown",
   "metadata": {},
   "source": [
    "**N.B : ** We are going to work on the yrbss file sample used in the book.  The data were retrieved through the website : https://www.cdc.gov/healthyyouth/data/yrbs/data.htm, and focused and the 2013 survey to match the datas from the book"
   ]
  },
  {
   "cell_type": "markdown",
   "metadata": {},
   "source": [
    "## 4.1 Variability in estimates"
   ]
  },
  {
   "cell_type": "markdown",
   "metadata": {},
   "source": [
    "We want to try to estimate some features out of the YRBSS file using **samples** :\n",
    "\n",
    "    1. The average height of high schoolers\n",
    "    2. The average weight \n",
    "    3. How many days per week do they practice weight training"
   ]
  },
  {
   "cell_type": "markdown",
   "metadata": {},
   "source": [
    "### Uploading the Yrbss file"
   ]
  },
  {
   "cell_type": "code",
   "execution_count": 1,
   "metadata": {},
   "outputs": [],
   "source": [
    "import pandas as pd\n",
    "import numpy as np"
   ]
  },
  {
   "cell_type": "markdown",
   "metadata": {},
   "source": [
    "**N.B :** The data have been formatted and cleaned to meet the book example. Look at the process in the separate file.<br/>\n",
    "**cf :** https://github.com/chikoungoun/OpenIntro/blob/master/Chapter%204/Yrbss_file_formatting.ipynb"
   ]
  },
  {
   "cell_type": "code",
   "execution_count": 2,
   "metadata": {
    "scrolled": true
   },
   "outputs": [
    {
     "data": {
      "text/html": [
       "<div>\n",
       "<style>\n",
       "    .dataframe thead tr:only-child th {\n",
       "        text-align: right;\n",
       "    }\n",
       "\n",
       "    .dataframe thead th {\n",
       "        text-align: left;\n",
       "    }\n",
       "\n",
       "    .dataframe tbody tr th {\n",
       "        vertical-align: top;\n",
       "    }\n",
       "</style>\n",
       "<table border=\"1\" class=\"dataframe\">\n",
       "  <thead>\n",
       "    <tr style=\"text-align: right;\">\n",
       "      <th></th>\n",
       "      <th>age</th>\n",
       "      <th>gender</th>\n",
       "      <th>grade</th>\n",
       "      <th>height</th>\n",
       "      <th>weight</th>\n",
       "      <th>helmet</th>\n",
       "      <th>active</th>\n",
       "      <th>lifting</th>\n",
       "    </tr>\n",
       "  </thead>\n",
       "  <tbody>\n",
       "    <tr>\n",
       "      <th>0</th>\n",
       "      <td>12.0</td>\n",
       "      <td>male</td>\n",
       "      <td>10.0</td>\n",
       "      <td>1.75</td>\n",
       "      <td>65.77</td>\n",
       "      <td>never</td>\n",
       "      <td>1.0</td>\n",
       "      <td>0.0</td>\n",
       "    </tr>\n",
       "    <tr>\n",
       "      <th>1</th>\n",
       "      <td>12.0</td>\n",
       "      <td>male</td>\n",
       "      <td>12.0</td>\n",
       "      <td>1.70</td>\n",
       "      <td>54.89</td>\n",
       "      <td>never</td>\n",
       "      <td>2.0</td>\n",
       "      <td>1.0</td>\n",
       "    </tr>\n",
       "    <tr>\n",
       "      <th>2</th>\n",
       "      <td>12.0</td>\n",
       "      <td>male</td>\n",
       "      <td>9.0</td>\n",
       "      <td>1.73</td>\n",
       "      <td>65.77</td>\n",
       "      <td>never</td>\n",
       "      <td>1.0</td>\n",
       "      <td>7.0</td>\n",
       "    </tr>\n",
       "    <tr>\n",
       "      <th>3</th>\n",
       "      <td>13.0</td>\n",
       "      <td>male</td>\n",
       "      <td>9.0</td>\n",
       "      <td>1.78</td>\n",
       "      <td>55.79</td>\n",
       "      <td>always</td>\n",
       "      <td>1.0</td>\n",
       "      <td>6.0</td>\n",
       "    </tr>\n",
       "    <tr>\n",
       "      <th>4</th>\n",
       "      <td>13.0</td>\n",
       "      <td>male</td>\n",
       "      <td>9.0</td>\n",
       "      <td>1.73</td>\n",
       "      <td>82.56</td>\n",
       "      <td>always</td>\n",
       "      <td>2.0</td>\n",
       "      <td>0.0</td>\n",
       "    </tr>\n",
       "    <tr>\n",
       "      <th>5</th>\n",
       "      <td>13.0</td>\n",
       "      <td>male</td>\n",
       "      <td>9.0</td>\n",
       "      <td>1.78</td>\n",
       "      <td>65.77</td>\n",
       "      <td>never</td>\n",
       "      <td>1.0</td>\n",
       "      <td>7.0</td>\n",
       "    </tr>\n",
       "    <tr>\n",
       "      <th>6</th>\n",
       "      <td>13.0</td>\n",
       "      <td>male</td>\n",
       "      <td>9.0</td>\n",
       "      <td>1.75</td>\n",
       "      <td>88.45</td>\n",
       "      <td>never</td>\n",
       "      <td>2.0</td>\n",
       "      <td>6.0</td>\n",
       "    </tr>\n",
       "    <tr>\n",
       "      <th>7</th>\n",
       "      <td>14.0</td>\n",
       "      <td>male</td>\n",
       "      <td>9.0</td>\n",
       "      <td>1.60</td>\n",
       "      <td>54.43</td>\n",
       "      <td>never</td>\n",
       "      <td>2.0</td>\n",
       "      <td>4.0</td>\n",
       "    </tr>\n",
       "    <tr>\n",
       "      <th>8</th>\n",
       "      <td>14.0</td>\n",
       "      <td>male</td>\n",
       "      <td>9.0</td>\n",
       "      <td>1.60</td>\n",
       "      <td>54.43</td>\n",
       "      <td>most of the time</td>\n",
       "      <td>2.0</td>\n",
       "      <td>3.0</td>\n",
       "    </tr>\n",
       "    <tr>\n",
       "      <th>9</th>\n",
       "      <td>14.0</td>\n",
       "      <td>male</td>\n",
       "      <td>9.0</td>\n",
       "      <td>1.78</td>\n",
       "      <td>66.23</td>\n",
       "      <td>never</td>\n",
       "      <td>1.0</td>\n",
       "      <td>3.0</td>\n",
       "    </tr>\n",
       "    <tr>\n",
       "      <th>10</th>\n",
       "      <td>14.0</td>\n",
       "      <td>male</td>\n",
       "      <td>9.0</td>\n",
       "      <td>1.75</td>\n",
       "      <td>63.05</td>\n",
       "      <td>not riding</td>\n",
       "      <td>2.0</td>\n",
       "      <td>0.0</td>\n",
       "    </tr>\n",
       "    <tr>\n",
       "      <th>11</th>\n",
       "      <td>14.0</td>\n",
       "      <td>male</td>\n",
       "      <td>9.0</td>\n",
       "      <td>1.73</td>\n",
       "      <td>56.70</td>\n",
       "      <td>never</td>\n",
       "      <td>1.0</td>\n",
       "      <td>5.0</td>\n",
       "    </tr>\n",
       "    <tr>\n",
       "      <th>12</th>\n",
       "      <td>14.0</td>\n",
       "      <td>male</td>\n",
       "      <td>10.0</td>\n",
       "      <td>1.68</td>\n",
       "      <td>69.40</td>\n",
       "      <td>always</td>\n",
       "      <td>1.0</td>\n",
       "      <td>2.0</td>\n",
       "    </tr>\n",
       "    <tr>\n",
       "      <th>13</th>\n",
       "      <td>14.0</td>\n",
       "      <td>male</td>\n",
       "      <td>9.0</td>\n",
       "      <td>1.60</td>\n",
       "      <td>56.70</td>\n",
       "      <td>never</td>\n",
       "      <td>2.0</td>\n",
       "      <td>5.0</td>\n",
       "    </tr>\n",
       "    <tr>\n",
       "      <th>14</th>\n",
       "      <td>14.0</td>\n",
       "      <td>male</td>\n",
       "      <td>9.0</td>\n",
       "      <td>1.68</td>\n",
       "      <td>54.43</td>\n",
       "      <td>rarely</td>\n",
       "      <td>1.0</td>\n",
       "      <td>7.0</td>\n",
       "    </tr>\n",
       "  </tbody>\n",
       "</table>\n",
       "</div>"
      ],
      "text/plain": [
       "     age gender  grade  height  weight            helmet  active  lifting\n",
       "0   12.0   male   10.0    1.75   65.77             never     1.0      0.0\n",
       "1   12.0   male   12.0    1.70   54.89             never     2.0      1.0\n",
       "2   12.0   male    9.0    1.73   65.77             never     1.0      7.0\n",
       "3   13.0   male    9.0    1.78   55.79            always     1.0      6.0\n",
       "4   13.0   male    9.0    1.73   82.56            always     2.0      0.0\n",
       "5   13.0   male    9.0    1.78   65.77             never     1.0      7.0\n",
       "6   13.0   male    9.0    1.75   88.45             never     2.0      6.0\n",
       "7   14.0   male    9.0    1.60   54.43             never     2.0      4.0\n",
       "8   14.0   male    9.0    1.60   54.43  most of the time     2.0      3.0\n",
       "9   14.0   male    9.0    1.78   66.23             never     1.0      3.0\n",
       "10  14.0   male    9.0    1.75   63.05        not riding     2.0      0.0\n",
       "11  14.0   male    9.0    1.73   56.70             never     1.0      5.0\n",
       "12  14.0   male   10.0    1.68   69.40            always     1.0      2.0\n",
       "13  14.0   male    9.0    1.60   56.70             never     2.0      5.0\n",
       "14  14.0   male    9.0    1.68   54.43            rarely     1.0      7.0"
      ]
     },
     "execution_count": 2,
     "metadata": {},
     "output_type": "execute_result"
    }
   ],
   "source": [
    "df = pd.read_csv('../Dataset/yrbss.csv',index_col=0)\n",
    "df.head(15)"
   ]
  },
  {
   "cell_type": "markdown",
   "metadata": {},
   "source": [
    "### 4.1.1 Point estimates"
   ]
  },
  {
   "cell_type": "markdown",
   "metadata": {},
   "source": [
    "Generally speaking, a point estimate is a statistic parameter (mean, variance, standard deviation,...) used to estimate a parameter in a population, usually applied on samples. "
   ]
  },
  {
   "cell_type": "markdown",
   "metadata": {},
   "source": [
    "Usually, estimates vary from a sample to another depending on the sample observations. We call this difference a **sampling variation**. The estimate won't be exactly equal to the population parameter, but will be very close to it."
   ]
  },
  {
   "cell_type": "markdown",
   "metadata": {},
   "source": [
    "* **histograms of <i>weight, height, active</i> and <i>lifting</i>**"
   ]
  },
  {
   "cell_type": "markdown",
   "metadata": {},
   "source": [
    "Creating a sample of 100 observations from the dataframe"
   ]
  },
  {
   "cell_type": "code",
   "execution_count": 3,
   "metadata": {},
   "outputs": [],
   "source": [
    "sampl = df.sample(n=100)"
   ]
  },
  {
   "cell_type": "code",
   "execution_count": 4,
   "metadata": {},
   "outputs": [
    {
     "data": {
      "text/html": [
       "<div>\n",
       "<style>\n",
       "    .dataframe thead tr:only-child th {\n",
       "        text-align: right;\n",
       "    }\n",
       "\n",
       "    .dataframe thead th {\n",
       "        text-align: left;\n",
       "    }\n",
       "\n",
       "    .dataframe tbody tr th {\n",
       "        vertical-align: top;\n",
       "    }\n",
       "</style>\n",
       "<table border=\"1\" class=\"dataframe\">\n",
       "  <thead>\n",
       "    <tr style=\"text-align: right;\">\n",
       "      <th></th>\n",
       "      <th>age</th>\n",
       "      <th>gender</th>\n",
       "      <th>grade</th>\n",
       "      <th>height</th>\n",
       "      <th>weight</th>\n",
       "      <th>helmet</th>\n",
       "      <th>active</th>\n",
       "      <th>lifting</th>\n",
       "    </tr>\n",
       "  </thead>\n",
       "  <tbody>\n",
       "    <tr>\n",
       "      <th>3088</th>\n",
       "      <td>16.0</td>\n",
       "      <td>male</td>\n",
       "      <td>10.0</td>\n",
       "      <td>1.83</td>\n",
       "      <td>58.06</td>\n",
       "      <td>rarely</td>\n",
       "      <td>1.0</td>\n",
       "      <td>2.0</td>\n",
       "    </tr>\n",
       "    <tr>\n",
       "      <th>4641</th>\n",
       "      <td>17.0</td>\n",
       "      <td>male</td>\n",
       "      <td>12.0</td>\n",
       "      <td>1.78</td>\n",
       "      <td>72.58</td>\n",
       "      <td>not riding</td>\n",
       "      <td>2.0</td>\n",
       "      <td>0.0</td>\n",
       "    </tr>\n",
       "    <tr>\n",
       "      <th>4668</th>\n",
       "      <td>17.0</td>\n",
       "      <td>male</td>\n",
       "      <td>11.0</td>\n",
       "      <td>1.85</td>\n",
       "      <td>86.64</td>\n",
       "      <td>never</td>\n",
       "      <td>1.0</td>\n",
       "      <td>5.0</td>\n",
       "    </tr>\n",
       "    <tr>\n",
       "      <th>5063</th>\n",
       "      <td>18.0</td>\n",
       "      <td>male</td>\n",
       "      <td>12.0</td>\n",
       "      <td>1.80</td>\n",
       "      <td>72.58</td>\n",
       "      <td>never</td>\n",
       "      <td>2.0</td>\n",
       "      <td>2.0</td>\n",
       "    </tr>\n",
       "    <tr>\n",
       "      <th>1798</th>\n",
       "      <td>15.0</td>\n",
       "      <td>male</td>\n",
       "      <td>9.0</td>\n",
       "      <td>1.90</td>\n",
       "      <td>115.67</td>\n",
       "      <td>never</td>\n",
       "      <td>2.0</td>\n",
       "      <td>0.0</td>\n",
       "    </tr>\n",
       "  </tbody>\n",
       "</table>\n",
       "</div>"
      ],
      "text/plain": [
       "       age gender  grade  height  weight      helmet  active  lifting\n",
       "3088  16.0   male   10.0    1.83   58.06      rarely     1.0      2.0\n",
       "4641  17.0   male   12.0    1.78   72.58  not riding     2.0      0.0\n",
       "4668  17.0   male   11.0    1.85   86.64       never     1.0      5.0\n",
       "5063  18.0   male   12.0    1.80   72.58       never     2.0      2.0\n",
       "1798  15.0   male    9.0    1.90  115.67       never     2.0      0.0"
      ]
     },
     "execution_count": 4,
     "metadata": {},
     "output_type": "execute_result"
    }
   ],
   "source": [
    "sampl.head()"
   ]
  },
  {
   "cell_type": "code",
   "execution_count": 5,
   "metadata": {},
   "outputs": [
    {
     "data": {
      "text/plain": [
       "<matplotlib.text.Text at 0x7c0d6d0>"
      ]
     },
     "execution_count": 5,
     "metadata": {},
     "output_type": "execute_result"
    },
    {
     "data": {
      "image/png": "[encoded data removed]",
      "text/plain": [
       "<matplotlib.figure.Figure at 0x7b2c330>"
      ]
     },
     "metadata": {},
     "output_type": "display_data"
    }
   ],
   "source": [
    "import matplotlib.pyplot as plt\n",
    "%matplotlib inline\n",
    "fig, axarr = plt.subplots(2,2,figsize=(12,8))\n",
    "\n",
    "#Distribution of height \n",
    "sampl['height'].hist(ax=axarr[0][0],)\n",
    "axarr[0][0].set_title(\"Height (meters)\", fontsize=15)\n",
    "\n",
    "#Distribution of weight\n",
    "sampl['weight'].plot.hist(ax=axarr[0][1])\n",
    "axarr[0][1].set_title(\"Weight Kgs\", fontsize=15)\n",
    "\n",
    "#Distribution of physical activity in Past week\n",
    "sampl['lifting'].plot.hist(ax=axarr[1][0],bins=8)\n",
    "axarr[1][0].set_title(\"Days lifting weights\", fontsize=15)"
   ]
  },
  {
   "cell_type": "markdown",
   "metadata": {},
   "source": [
    "We will display another randomly selected sample to pinpoint the differences of result"
   ]
  },
  {
   "cell_type": "code",
   "execution_count": 6,
   "metadata": {},
   "outputs": [
    {
     "data": {
      "text/html": [
       "<div>\n",
       "<style>\n",
       "    .dataframe thead tr:only-child th {\n",
       "        text-align: right;\n",
       "    }\n",
       "\n",
       "    .dataframe thead th {\n",
       "        text-align: left;\n",
       "    }\n",
       "\n",
       "    .dataframe tbody tr th {\n",
       "        vertical-align: top;\n",
       "    }\n",
       "</style>\n",
       "<table border=\"1\" class=\"dataframe\">\n",
       "  <thead>\n",
       "    <tr style=\"text-align: right;\">\n",
       "      <th></th>\n",
       "      <th>age</th>\n",
       "      <th>gender</th>\n",
       "      <th>grade</th>\n",
       "      <th>height</th>\n",
       "      <th>weight</th>\n",
       "      <th>helmet</th>\n",
       "      <th>active</th>\n",
       "      <th>lifting</th>\n",
       "    </tr>\n",
       "  </thead>\n",
       "  <tbody>\n",
       "    <tr>\n",
       "      <th>7786</th>\n",
       "      <td>16.0</td>\n",
       "      <td>female</td>\n",
       "      <td>9.0</td>\n",
       "      <td>1.63</td>\n",
       "      <td>68.04</td>\n",
       "      <td>never</td>\n",
       "      <td>2.0</td>\n",
       "      <td>2.0</td>\n",
       "    </tr>\n",
       "    <tr>\n",
       "      <th>1241</th>\n",
       "      <td>15.0</td>\n",
       "      <td>male</td>\n",
       "      <td>9.0</td>\n",
       "      <td>1.75</td>\n",
       "      <td>68.04</td>\n",
       "      <td>never</td>\n",
       "      <td>2.0</td>\n",
       "      <td>1.0</td>\n",
       "    </tr>\n",
       "    <tr>\n",
       "      <th>8685</th>\n",
       "      <td>16.0</td>\n",
       "      <td>female</td>\n",
       "      <td>10.0</td>\n",
       "      <td>1.57</td>\n",
       "      <td>89.81</td>\n",
       "      <td>never</td>\n",
       "      <td>2.0</td>\n",
       "      <td>0.0</td>\n",
       "    </tr>\n",
       "    <tr>\n",
       "      <th>7344</th>\n",
       "      <td>15.0</td>\n",
       "      <td>female</td>\n",
       "      <td>9.0</td>\n",
       "      <td>1.57</td>\n",
       "      <td>53.98</td>\n",
       "      <td>not riding</td>\n",
       "      <td>2.0</td>\n",
       "      <td>5.0</td>\n",
       "    </tr>\n",
       "    <tr>\n",
       "      <th>8089</th>\n",
       "      <td>16.0</td>\n",
       "      <td>female</td>\n",
       "      <td>11.0</td>\n",
       "      <td>1.55</td>\n",
       "      <td>58.97</td>\n",
       "      <td>not riding</td>\n",
       "      <td>2.0</td>\n",
       "      <td>2.0</td>\n",
       "    </tr>\n",
       "  </tbody>\n",
       "</table>\n",
       "</div>"
      ],
      "text/plain": [
       "       age  gender  grade  height  weight      helmet  active  lifting\n",
       "7786  16.0  female    9.0    1.63   68.04       never     2.0      2.0\n",
       "1241  15.0    male    9.0    1.75   68.04       never     2.0      1.0\n",
       "8685  16.0  female   10.0    1.57   89.81       never     2.0      0.0\n",
       "7344  15.0  female    9.0    1.57   53.98  not riding     2.0      5.0\n",
       "8089  16.0  female   11.0    1.55   58.97  not riding     2.0      2.0"
      ]
     },
     "execution_count": 6,
     "metadata": {},
     "output_type": "execute_result"
    }
   ],
   "source": [
    "sampl2 = df.sample(n=100)\n",
    "sampl2.head()"
   ]
  },
  {
   "cell_type": "code",
   "execution_count": 7,
   "metadata": {},
   "outputs": [
    {
     "data": {
      "text/plain": [
       "<matplotlib.text.Text at 0x7dbb8d0>"
      ]
     },
     "execution_count": 7,
     "metadata": {},
     "output_type": "execute_result"
    },
    {
     "data": {
      "image/png": "[encoded data removed]",
      "text/plain": [
       "<matplotlib.figure.Figure at 0x7d34ed0>"
      ]
     },
     "metadata": {},
     "output_type": "display_data"
    }
   ],
   "source": [
    "fig, axarr = plt.subplots(2,2,figsize=(12,8))\n",
    "\n",
    "#Distribution of height \n",
    "sampl2['height'].plot.hist(ax=axarr[0][0],color='mediumvioletred')\n",
    "axarr[0][0].set_title(\"Height (meters)\", fontsize=15)\n",
    "\n",
    "#Distribution of weight\n",
    "sampl2['weight'].plot.hist(ax=axarr[0][1],color='mediumvioletred')\n",
    "axarr[0][1].set_title(\"Weight Kgs\", fontsize=15)\n",
    "\n",
    "#Distribution of physical activity in Past week\n",
    "sampl2['lifting'].plot.hist(ax=axarr[1][0],bins=8, color='mediumvioletred')\n",
    "axarr[1][0].set_title(\"Days lifting weights\", fontsize=15)"
   ]
  },
  {
   "cell_type": "markdown",
   "metadata": {},
   "source": [
    "- The **height** distribution is somehow symetric in it's shape ( very somehow :p) \n",
    "- We can notice in the 2 examples that the **weight** distribution is moderatly skewed to the right\n",
    "- The **lifting** distribution is pretty similar"
   ]
  },
  {
   "cell_type": "markdown",
   "metadata": {},
   "source": [
    "Let's calculate the average **weight** and **lifting days**  of the samples :"
   ]
  },
  {
   "cell_type": "code",
   "execution_count": 8,
   "metadata": {},
   "outputs": [
    {
     "name": "stdout",
     "output_type": "stream",
     "text": [
      "70.1265\n",
      "69.1152\n"
     ]
    }
   ],
   "source": [
    "# sample mean of the weight\n",
    "print(sampl['weight'].mean())\n",
    "print(sampl2['weight'].mean())"
   ]
  },
  {
   "cell_type": "code",
   "execution_count": 9,
   "metadata": {},
   "outputs": [
    {
     "name": "stdout",
     "output_type": "stream",
     "text": [
      "3.42\n",
      "2.98\n"
     ]
    }
   ],
   "source": [
    "# sample mean of the lifting days\n",
    "print(sampl['lifting'].mean())\n",
    "print(sampl2['lifting'].mean())"
   ]
  },
  {
   "cell_type": "markdown",
   "metadata": {},
   "source": [
    "* We realize that the average of the samples don't differ that much. Here we compute informations over the population"
   ]
  },
  {
   "cell_type": "code",
   "execution_count": 10,
   "metadata": {},
   "outputs": [
    {
     "data": {
      "text/plain": [
       "mean      67.903099\n",
       "median    64.860000\n",
       "std       16.956465\n",
       "Name: weight, dtype: float64"
      ]
     },
     "execution_count": 10,
     "metadata": {},
     "output_type": "execute_result"
    }
   ],
   "source": [
    "df['weight'].agg(['mean','median','std'])"
   ]
  },
  {
   "cell_type": "code",
   "execution_count": 11,
   "metadata": {},
   "outputs": [
    {
     "data": {
      "text/plain": [
       "mean      2.967510\n",
       "median    3.000000\n",
       "std       2.575564\n",
       "Name: lifting, dtype: float64"
      ]
     },
     "execution_count": 11,
     "metadata": {},
     "output_type": "execute_result"
    }
   ],
   "source": [
    "df.lifting.agg(['mean','median','std'])"
   ]
  },
  {
   "cell_type": "markdown",
   "metadata": {},
   "source": [
    "### 4.1.2 Point estimates are not exact"
   ]
  },
  {
   "cell_type": "markdown",
   "metadata": {},
   "source": [
    "Estimates are not exactly equal to the truth but tend to get better as more data gets added in."
   ]
  },
  {
   "cell_type": "markdown",
   "metadata": {},
   "source": [
    "**Running mean** is a sequence of means that adds up by adding a new observation in its calculation"
   ]
  },
  {
   "cell_type": "markdown",
   "metadata": {},
   "source": [
    "**N.B : ** We will be working with the weight instead of the days of activity "
   ]
  },
  {
   "cell_type": "markdown",
   "metadata": {},
   "source": [
    "* **Graphing a Running mean for <i> weight</i> sample**"
   ]
  },
  {
   "cell_type": "code",
   "execution_count": 12,
   "metadata": {},
   "outputs": [],
   "source": [
    "# we will need a function that computes the sum\n",
    "def sum(l):\n",
    "    s = 0\n",
    "    for i in l:\n",
    "        s = s + i\n",
    "    return s"
   ]
  },
  {
   "cell_type": "code",
   "execution_count": 13,
   "metadata": {},
   "outputs": [],
   "source": [
    "# Calculating a running mean through \"lists\"\n",
    "def running_mean(l):\n",
    "    #convert the series into a list \n",
    "    t = l.tolist()\n",
    "    \n",
    "    #declaring a result list\n",
    "    tr = []\n",
    "\n",
    "    for c,i in enumerate(t[:-1]):\n",
    "        tr.append(sum(t[0:c+1])/(c+1))\n",
    "    \n",
    "    #returning back a series\n",
    "    return pd.Series(tr)\n",
    "#P.S : will try to compute with rolling sometime"
   ]
  },
  {
   "cell_type": "code",
   "execution_count": 14,
   "metadata": {},
   "outputs": [],
   "source": [
    "#Weight sample running mean\n",
    "wsrm = running_mean(sampl['weight'])"
   ]
  },
  {
   "cell_type": "code",
   "execution_count": 15,
   "metadata": {},
   "outputs": [
    {
     "data": {
      "text/plain": [
       "0    58.060000\n",
       "1    65.320000\n",
       "2    72.426667\n",
       "3    72.465000\n",
       "4    81.106000\n",
       "5    77.038333\n",
       "6    73.161429\n",
       "7    73.371250\n",
       "8    70.258889\n",
       "9    69.039000\n",
       "dtype: float64"
      ]
     },
     "execution_count": 15,
     "metadata": {},
     "output_type": "execute_result"
    }
   ],
   "source": [
    "wsrm.head(10)"
   ]
  },
  {
   "cell_type": "markdown",
   "metadata": {},
   "source": [
    "Graphing the **Running mean** of the weight data of the student sample"
   ]
  },
  {
   "cell_type": "code",
   "execution_count": 16,
   "metadata": {},
   "outputs": [
    {
     "data": {
      "text/plain": [
       "<matplotlib.axes._subplots.AxesSubplot at 0x7e95850>"
      ]
     },
     "execution_count": 16,
     "metadata": {},
     "output_type": "execute_result"
    },
    {
     "data": {
      "image/png": "[encoded data removed]",
      "text/plain": [
       "<matplotlib.figure.Figure at 0x7e6b6d0>"
      ]
     },
     "metadata": {},
     "output_type": "display_data"
    }
   ],
   "source": [
    "wsrm.plot.line()"
   ]
  },
  {
   "cell_type": "markdown",
   "metadata": {},
   "source": [
    "In comparison with another sample "
   ]
  },
  {
   "cell_type": "code",
   "execution_count": 17,
   "metadata": {},
   "outputs": [],
   "source": [
    "wsrm2 = running_mean(sampl2['weight'])"
   ]
  },
  {
   "cell_type": "code",
   "execution_count": 18,
   "metadata": {},
   "outputs": [
    {
     "data": {
      "text/plain": [
       "<matplotlib.axes._subplots.AxesSubplot at 0x7e78070>"
      ]
     },
     "execution_count": 18,
     "metadata": {},
     "output_type": "execute_result"
    },
    {
     "data": {
      "image/png": "[encoded data removed]",
      "text/plain": [
       "<matplotlib.figure.Figure at 0x7d3d0b0>"
      ]
     },
     "metadata": {},
     "output_type": "display_data"
    }
   ],
   "source": [
    "wsrm2.plot.line(color='mediumvioletred')"
   ]
  },
  {
   "cell_type": "markdown",
   "metadata": {},
   "source": [
    "### 4.1.3 Standard error of the mean"
   ]
  },
  {
   "cell_type": "markdown",
   "metadata": {},
   "source": [
    "**N.B: ** We will be using the <i>Lifting</i> data"
   ]
  },
  {
   "cell_type": "markdown",
   "metadata": {},
   "source": [
    "Building up a **sampling distribution** for the sample mean when sample is size 100."
   ]
  },
  {
   "cell_type": "code",
   "execution_count": 19,
   "metadata": {},
   "outputs": [],
   "source": [
    "lift1k = []\n",
    "i=0\n",
    "while(i<1000):\n",
    "    lift1k.append(df['lifting'].sample(100).mean())\n",
    "    i += 1"
   ]
  },
  {
   "cell_type": "code",
   "execution_count": 20,
   "metadata": {},
   "outputs": [
    {
     "data": {
      "text/plain": [
       "1000"
      ]
     },
     "execution_count": 20,
     "metadata": {},
     "output_type": "execute_result"
    }
   ],
   "source": [
    "len(lift1k)"
   ]
  },
  {
   "cell_type": "code",
   "execution_count": 21,
   "metadata": {},
   "outputs": [],
   "source": [
    "lift_dist = pd.Series(lift1k)"
   ]
  },
  {
   "cell_type": "code",
   "execution_count": 22,
   "metadata": {
    "scrolled": true
   },
   "outputs": [
    {
     "data": {
      "text/plain": [
       "0    2.96\n",
       "1    2.74\n",
       "2    3.36\n",
       "3    3.01\n",
       "4    2.91\n",
       "dtype: float64"
      ]
     },
     "execution_count": 22,
     "metadata": {},
     "output_type": "execute_result"
    }
   ],
   "source": [
    "lift_dist.head()"
   ]
  },
  {
   "cell_type": "code",
   "execution_count": 23,
   "metadata": {},
   "outputs": [
    {
     "data": {
      "text/plain": [
       "0.26272164483091731"
      ]
     },
     "execution_count": 23,
     "metadata": {},
     "output_type": "execute_result"
    }
   ],
   "source": [
    "#Standard deviation of the sample mean\n",
    "lift_dist.std()"
   ]
  },
  {
   "cell_type": "code",
   "execution_count": 24,
   "metadata": {},
   "outputs": [
    {
     "data": {
      "text/plain": [
       "<matplotlib.axes._subplots.AxesSubplot at 0x8149ed0>"
      ]
     },
     "execution_count": 24,
     "metadata": {},
     "output_type": "execute_result"
    },
    {
     "data": {
      "image/png": "[encoded data removed]",
      "text/plain": [
       "<matplotlib.figure.Figure at 0x7f333f0>"
      ]
     },
     "metadata": {},
     "output_type": "display_data"
    }
   ],
   "source": [
    "lift_dist.plot.hist(bins=40)"
   ]
  },
  {
   "cell_type": "code",
   "execution_count": 25,
   "metadata": {},
   "outputs": [
    {
     "data": {
      "text/plain": [
       "2.967509659290481"
      ]
     },
     "execution_count": 25,
     "metadata": {},
     "output_type": "execute_result"
    }
   ],
   "source": [
    "#Population mean\n",
    "df['lifting'].mean()"
   ]
  },
  {
   "cell_type": "markdown",
   "metadata": {},
   "source": [
    "Population mean $ \\mu = 2.967$"
   ]
  },
  {
   "cell_type": "code",
   "execution_count": 26,
   "metadata": {},
   "outputs": [
    {
     "data": {
      "text/plain": [
       "2.5755635464492657"
      ]
     },
     "execution_count": 26,
     "metadata": {},
     "output_type": "execute_result"
    }
   ],
   "source": [
    "#Population Standard deviation\n",
    "df['lifting'].std()"
   ]
  },
  {
   "cell_type": "markdown",
   "metadata": {},
   "source": [
    "Population mean $ \\sigma = 2.575$"
   ]
  },
  {
   "cell_type": "markdown",
   "metadata": {},
   "source": [
    "* **Sampling Distribution** :<br/>\n",
    "    Represents the distribution of the **point estimates** based on fixed sized samples from a certain population"
   ]
  },
  {
   "cell_type": "markdown",
   "metadata": {},
   "source": [
    "The distribution looks **Unimodal**, approximately **symmetric** and it's centered very close to the **population mean** "
   ]
  },
  {
   "cell_type": "markdown",
   "metadata": {},
   "source": [
    "* **<u>Standard Error</u> ** <br/>\n",
    "We call the standard deviation associated with an estimate as the **Standard Error**. It describes the typical error or uncertainty associated with the estimate."
   ]
  },
  {
   "cell_type": "markdown",
   "metadata": {},
   "source": [
    "* **Computing SE (Standard Error) for the sample mean**<br/>\n",
    "Given <i>n</i> independant observations from a population with standard deviation $\\sigma$ the standard error of the sample mean is equal to <br/><br/>\n",
    "$SE = \\frac{\\sigma}{\\sqrt{n}}$\n",
    "<br/><br/>\n",
    "- To ensure sample observations independance, it shouldn't exceed 10% of the population\n",
    "- The estimate is sufficiently good enough when the sample size is at least 30 and the population, distribution not strongly skewed"
   ]
  },
  {
   "cell_type": "markdown",
   "metadata": {},
   "source": [
    "**N.B : ** Difference between \"Standard Deviation\" and \"Standard Error\". As they are both a measure of spread, **Standard Deviation** uses **parameters** (population), and **Standard Error** uses **statistics** (sample) "
   ]
  },
  {
   "cell_type": "code",
   "execution_count": null,
   "metadata": {},
   "outputs": [],
   "source": []
  }
 ],
 "metadata": {
  "kernelspec": {
   "display_name": "Python 3",
   "language": "python",
   "name": "python3"
  },
  "language_info": {
   "codemirror_mode": {
    "name": "ipython",
    "version": 3
   },
   "file_extension": ".py",
   "mimetype": "text/x-python",
   "name": "python",
   "nbconvert_exporter": "python",
   "pygments_lexer": "ipython3",
   "version": "3.6.1"
  }
 },
 "nbformat": 4,
 "nbformat_minor": 2
}
