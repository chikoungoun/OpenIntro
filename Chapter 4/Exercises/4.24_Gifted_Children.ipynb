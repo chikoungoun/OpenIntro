{
 "cells": [
  {
   "cell_type": "markdown",
   "metadata": {},
   "source": [
    "# 4.24 Gifted Children"
   ]
  },
  {
   "cell_type": "code",
   "execution_count": 4,
   "metadata": {},
   "outputs": [],
   "source": [
    "import math"
   ]
  },
  {
   "cell_type": "code",
   "execution_count": 5,
   "metadata": {},
   "outputs": [],
   "source": [
    "def standard_error(std, sample_size):\n",
    "    return (std/(math.sqrt(sample_size)))"
   ]
  },
  {
   "cell_type": "code",
   "execution_count": 14,
   "metadata": {},
   "outputs": [],
   "source": [
    "def zscore(x,mu,sigma):\n",
    "    return (x-mu)/sigma"
   ]
  },
  {
   "cell_type": "code",
   "execution_count": 30,
   "metadata": {},
   "outputs": [],
   "source": [
    "def ci(pe, std, sample_size,conf_lvl):\n",
    "    z = {80:1.282,85:1.440,90:1.645,95:1.960,99:2.576,99.5:2.807,99.9:3.291}\n",
    "    #needs the standard_error\n",
    "    se = standard_error(std,sample_size)\n",
    "    ci_minus = pe - (z[conf_lvl] * se)\n",
    "    ci_plus = pe + (z[conf_lvl] * se)\n",
    "    ci = (round(ci_minus,3),round(ci_plus,3))\n",
    "    #returns a tuple\n",
    "    return ci"
   ]
  },
  {
   "cell_type": "markdown",
   "metadata": {},
   "source": [
    "(b) Computing the Hypothesis Test"
   ]
  },
  {
   "cell_type": "markdown",
   "metadata": {},
   "source": [
    "<u>Given :</u>"
   ]
  },
  {
   "cell_type": "code",
   "execution_count": 16,
   "metadata": {},
   "outputs": [],
   "source": [
    "n =36 \n",
    "minimum = 21 \n",
    "maximum = 39 \n",
    "sd = 4.31\n",
    "smean = 30.69"
   ]
  },
  {
   "cell_type": "markdown",
   "metadata": {},
   "source": [
    "** We follow the steps of hypothesis testing : **"
   ]
  },
  {
   "cell_type": "markdown",
   "metadata": {},
   "source": [
    "<u>Given : </u>\n",
    "<br/>\n",
    "Significance level $\\alpha = 0.10$"
   ]
  },
  {
   "cell_type": "markdown",
   "metadata": {},
   "source": [
    "1.<u>Writing the hypothesis mathematically : </u>"
   ]
  },
  {
   "cell_type": "markdown",
   "metadata": {},
   "source": [
    "<u>Claim :</u>\n",
    "\n",
    "<br/>\n",
    "$H_0 : \\mu = 32$\n",
    "<br/>\n",
    "$H_A : \\mu < 32 $"
   ]
  },
  {
   "cell_type": "code",
   "execution_count": 17,
   "metadata": {},
   "outputs": [],
   "source": [
    "mu = 32"
   ]
  },
  {
   "cell_type": "markdown",
   "metadata": {},
   "source": [
    ".2. <u> Identify the point estimate : </u>"
   ]
  },
  {
   "cell_type": "markdown",
   "metadata": {},
   "source": [
    "point estimate is : 32"
   ]
  },
  {
   "cell_type": "markdown",
   "metadata": {},
   "source": [
    ".3. <u>nearly normal and unbiased : </u>"
   ]
  },
  {
   "cell_type": "markdown",
   "metadata": {},
   "source": [
    "the point estimate is the sample mean : 30.69 which is  centered in the sampling distribution so **unbiased**"
   ]
  },
  {
   "cell_type": "markdown",
   "metadata": {},
   "source": [
    ".4. <u>Computing the Standard Error </u>"
   ]
  },
  {
   "cell_type": "code",
   "execution_count": 21,
   "metadata": {},
   "outputs": [
    {
     "data": {
      "text/plain": [
       "0.7183"
      ]
     },
     "execution_count": 21,
     "metadata": {},
     "output_type": "execute_result"
    }
   ],
   "source": [
    "se = round(standard_error(4.31,36),4)\n",
    "se"
   ]
  },
  {
   "cell_type": "markdown",
   "metadata": {},
   "source": [
    ".5.<u> Compute the test statistic (Z-score) and identify the p-value : </u>"
   ]
  },
  {
   "cell_type": "markdown",
   "metadata": {},
   "source": [
    "sample mean decreased by the population mean divided by the standard error"
   ]
  },
  {
   "cell_type": "code",
   "execution_count": 20,
   "metadata": {},
   "outputs": [
    {
     "data": {
      "text/plain": [
       "-1.8238"
      ]
     },
     "execution_count": 20,
     "metadata": {},
     "output_type": "execute_result"
    }
   ],
   "source": [
    "z = round(zscore(smean,mu,se),4)\n",
    "z"
   ]
  },
  {
   "cell_type": "markdown",
   "metadata": {},
   "source": [
    "Following the table score, we find that the equivalent for the z-score for the lower tail : P =$ 0.0344$"
   ]
  },
  {
   "cell_type": "markdown",
   "metadata": {},
   "source": [
    "$P < \\alpha$\n",
    "<br/>\n",
    "$0.0344 < 0.10 $"
   ]
  },
  {
   "cell_type": "markdown",
   "metadata": {},
   "source": [
    "Because P-value is lower than the significance level, we can say that the **null hypothesis** is rejected."
   ]
  },
  {
   "cell_type": "markdown",
   "metadata": {},
   "source": [
    "There are sufficient evidence to support the claim that the average  age at which gifted children first count to 10 successfully is less than the general average of 32 months"
   ]
  },
  {
   "cell_type": "markdown",
   "metadata": {},
   "source": [
    "(c) ** If the population mean is 32 months, then we have a 3.44% chance of obtaining a sample of 36 children with an average of less than 30.69 months**"
   ]
  },
  {
   "cell_type": "markdown",
   "metadata": {},
   "source": [
    "(d) Calculate a 90% confidence interval for the average age at which gifted children first count to 10 successfully"
   ]
  },
  {
   "cell_type": "code",
   "execution_count": 26,
   "metadata": {},
   "outputs": [],
   "source": [
    "#Confidence level 1 _ significance level\n",
    "conf_lvl = (1 -0.10)*100"
   ]
  },
  {
   "cell_type": "code",
   "execution_count": 31,
   "metadata": {},
   "outputs": [
    {
     "data": {
      "text/plain": [
       "(29.508, 31.872)"
      ]
     },
     "execution_count": 31,
     "metadata": {},
     "output_type": "execute_result"
    }
   ],
   "source": [
    "ci(smean,sd,n,conf_lvl)"
   ]
  },
  {
   "cell_type": "markdown",
   "metadata": {},
   "source": [
    "(e) Does the hypothesis test and confidence interval agree with each others ?"
   ]
  },
  {
   "cell_type": "markdown",
   "metadata": {},
   "source": [
    "The confidence interval does not contain 32, cause it was rejected by the hypothesis test. So yes, they do agree with each others."
   ]
  },
  {
   "cell_type": "markdown",
   "metadata": {},
   "source": [
    "Source : https://www.slader.com/textbook/9781943450039-openintro-statistics-3rd-edition/211/exercises/24/"
   ]
  },
  {
   "cell_type": "code",
   "execution_count": null,
   "metadata": {},
   "outputs": [],
   "source": []
  }
 ],
 "metadata": {
  "kernelspec": {
   "display_name": "Python 3",
   "language": "python",
   "name": "python3"
  },
  "language_info": {
   "codemirror_mode": {
    "name": "ipython",
    "version": 3
   },
   "file_extension": ".py",
   "mimetype": "text/x-python",
   "name": "python",
   "nbconvert_exporter": "python",
   "pygments_lexer": "ipython3",
   "version": "3.6.1"
  }
 },
 "nbformat": 4,
 "nbformat_minor": 2
}
