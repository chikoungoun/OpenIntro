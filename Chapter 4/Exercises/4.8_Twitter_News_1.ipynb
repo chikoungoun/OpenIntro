{
 "cells": [
  {
   "cell_type": "markdown",
   "metadata": {},
   "source": [
    "# 4.8 Twitter users and news"
   ]
  },
  {
   "cell_type": "code",
   "execution_count": 3,
   "metadata": {},
   "outputs": [],
   "source": [
    "import math\n",
    "\"\"\" Confidence Interval of 95%  Function\n",
    "\n",
    "pe = the population point estimate\n",
    "std = standard deviation of the population\n",
    "sample_size = size of the sample\n",
    "\n",
    "\"\"\"\n",
    "#Standard error method that comes into computation\n",
    "def standard_error(std, sample_size):\n",
    "    return (std/(math.sqrt(sample_size)))\n",
    "\n",
    "\n",
    "def ci_99(pe, se):\n",
    "    z = 2.576\n",
    "\n",
    "    ci_minus = pe - (z * se)\n",
    "    ci_plus = pe + (z * se)\n",
    "    ci = (ci_minus,ci_plus)\n",
    "    #returns a tuple\n",
    "    return ci"
   ]
  },
  {
   "cell_type": "markdown",
   "metadata": {},
   "source": [
    "**Given Data :** \n",
    "<br/>\n",
    "point estimate = 52%<br/>\n",
    "Standard Error = 2.4%"
   ]
  },
  {
   "cell_type": "markdown",
   "metadata": {},
   "source": [
    "Creating a 99 % confidence interval for the proportion of US adults Twitter users who get some news on Twitter."
   ]
  },
  {
   "cell_type": "code",
   "execution_count": 4,
   "metadata": {},
   "outputs": [
    {
     "data": {
      "text/plain": [
       "(45.8176, 58.1824)"
      ]
     },
     "execution_count": 4,
     "metadata": {},
     "output_type": "execute_result"
    }
   ],
   "source": [
    "ci_99(52,2.4)"
   ]
  },
  {
   "cell_type": "markdown",
   "metadata": {},
   "source": [
    "**<u>Inference : </u> : ** We are 99% confident that the proporion of U.S. adults using Twitter getting some news out of it falls between 45.8176, 58.1824"
   ]
  },
  {
   "cell_type": "code",
   "execution_count": null,
   "metadata": {},
   "outputs": [],
   "source": []
  }
 ],
 "metadata": {
  "kernelspec": {
   "display_name": "Python 3",
   "language": "python",
   "name": "python3"
  },
  "language_info": {
   "codemirror_mode": {
    "name": "ipython",
    "version": 3
   },
   "file_extension": ".py",
   "mimetype": "text/x-python",
   "name": "python",
   "nbconvert_exporter": "python",
   "pygments_lexer": "ipython3",
   "version": "3.6.1"
  }
 },
 "nbformat": 4,
 "nbformat_minor": 2
}
