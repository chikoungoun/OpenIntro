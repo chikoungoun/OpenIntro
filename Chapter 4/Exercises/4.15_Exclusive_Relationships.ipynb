{
 "cells": [
  {
   "cell_type": "markdown",
   "metadata": {},
   "source": [
    "# 4.15 Exclusive Relationships"
   ]
  },
  {
   "cell_type": "code",
   "execution_count": 9,
   "metadata": {},
   "outputs": [],
   "source": [
    "import math\n",
    "\"\"\" Confidence Interval of 90%  Function\n",
    "\n",
    "pe = the population point estimate\n",
    "std = standard deviation of the population\n",
    "sample_size = size of the sample\n",
    "\n",
    "\"\"\"\n",
    "#Standard error method that comes into computation\n",
    "def standard_error(std, sample_size):\n",
    "    return (std/(math.sqrt(sample_size)))\n",
    "\n",
    "\n",
    "def ci_90(pe, std,sample_size):\n",
    "    z = 1.645\n",
    "\n",
    "    se = standard_error(std,sample_size)\n",
    "    ci_minus = pe - (z * se)\n",
    "    ci_plus = pe + (z * se)\n",
    "    ci = (ci_minus,ci_plus)\n",
    "    #returns a tuple\n",
    "    return ci"
   ]
  },
  {
   "cell_type": "markdown",
   "metadata": {},
   "source": [
    "**Given Data :** \n",
    "<br/>\n",
    "Sample Size = 203<br/>\n",
    "Sample Average = 3.2<br/>\n",
    "Standard Deviation = 1.97"
   ]
  },
  {
   "cell_type": "markdown",
   "metadata": {},
   "source": [
    "Creating a 90 % confidence interval of the average number of exclusive relationships at Duke University"
   ]
  },
  {
   "cell_type": "code",
   "execution_count": 10,
   "metadata": {},
   "outputs": [
    {
     "data": {
      "text/plain": [
       "(2.9725509592882626, 3.4274490407117377)"
      ]
     },
     "execution_count": 10,
     "metadata": {},
     "output_type": "execute_result"
    }
   ],
   "source": [
    "ci_90(3.2,1.97,203)"
   ]
  },
  {
   "cell_type": "markdown",
   "metadata": {},
   "source": [
    "**<u>Inference : </u> : ** We are 90% confident that undergraduate students have\n",
    "been in 2.97 to 3.43 exclusive relationships, on average."
   ]
  },
  {
   "cell_type": "code",
   "execution_count": null,
   "metadata": {},
   "outputs": [],
   "source": []
  }
 ],
 "metadata": {
  "kernelspec": {
   "display_name": "Python 3",
   "language": "python",
   "name": "python3"
  },
  "language_info": {
   "codemirror_mode": {
    "name": "ipython",
    "version": 3
   },
   "file_extension": ".py",
   "mimetype": "text/x-python",
   "name": "python",
   "nbconvert_exporter": "python",
   "pygments_lexer": "ipython3",
   "version": "3.6.1"
  }
 },
 "nbformat": 4,
 "nbformat_minor": 2
}
