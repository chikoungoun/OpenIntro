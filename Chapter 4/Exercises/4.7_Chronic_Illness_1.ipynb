{
 "cells": [
  {
   "cell_type": "code",
   "execution_count": 3,
   "metadata": {},
   "outputs": [],
   "source": [
    "import math\n",
    "\"\"\" Confidence Interval of 95%  Function\n",
    "\n",
    "mean = the population mean\n",
    "std = standard deviation of the population\n",
    "sample_size = size of the sample\n",
    "\n",
    "\"\"\"\n",
    "#Standard error method that comes into computation\n",
    "def standard_error(std, sample_size):\n",
    "    return (std/(math.sqrt(sample_size)))\n",
    "\n",
    "\n",
    "def ci_95(mean, se):\n",
    "    z = 1.96\n",
    "\n",
    "    ci_minus = mean - (z * se)\n",
    "    ci_plus = mean + (z * se)\n",
    "    ci = (ci_minus,ci_plus)\n",
    "    #returns a tuple\n",
    "    return ci"
   ]
  },
  {
   "cell_type": "markdown",
   "metadata": {},
   "source": [
    "# 4.7 Chronic illness"
   ]
  },
  {
   "cell_type": "markdown",
   "metadata": {},
   "source": [
    "**Given Data :** \n",
    "<br/>\n",
    "point estimate = 45%<br/>\n",
    "Standard Error = 1.2%"
   ]
  },
  {
   "cell_type": "markdown",
   "metadata": {},
   "source": [
    "Creating a 95 % confidence interval for the proportion of US adults with one pr more chronic conditions."
   ]
  },
  {
   "cell_type": "code",
   "execution_count": 4,
   "metadata": {},
   "outputs": [
    {
     "data": {
      "text/plain": [
       "(42.648, 47.352)"
      ]
     },
     "execution_count": 4,
     "metadata": {},
     "output_type": "execute_result"
    }
   ],
   "source": [
    "ci_95(45,1.2)"
   ]
  },
  {
   "cell_type": "markdown",
   "metadata": {},
   "source": [
    "**<u>Inference : </u> : ** We are 95% confident that the proporion of U.S. citizen living with one or more chronic conditions is between 42.648 and 47.352 "
   ]
  },
  {
   "cell_type": "code",
   "execution_count": null,
   "metadata": {},
   "outputs": [],
   "source": []
  }
 ],
 "metadata": {
  "kernelspec": {
   "display_name": "Python 3",
   "language": "python",
   "name": "python3"
  },
  "language_info": {
   "codemirror_mode": {
    "name": "ipython",
    "version": 3
   },
   "file_extension": ".py",
   "mimetype": "text/x-python",
   "name": "python",
   "nbconvert_exporter": "python",
   "pygments_lexer": "ipython3",
   "version": "3.6.1"
  }
 },
 "nbformat": 4,
 "nbformat_minor": 2
}
