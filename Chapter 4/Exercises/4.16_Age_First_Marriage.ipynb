{
 "cells": [
  {
   "cell_type": "markdown",
   "metadata": {},
   "source": [
    "# 4.16 Age at First Marriage"
   ]
  },
  {
   "cell_type": "code",
   "execution_count": 1,
   "metadata": {},
   "outputs": [],
   "source": [
    "import math\n",
    "\"\"\" Confidence Interval of 95%  Function\n",
    "\n",
    "pe = point estimate\n",
    "std = standard deviation of the population\n",
    "sample_size = size of the sample\n",
    "\n",
    "\"\"\"\n",
    "#Standard error method that comes into computation\n",
    "def standard_error(std, sample_size):\n",
    "    return (std/(math.sqrt(sample_size)))\n",
    "\n",
    "\n",
    "def ci(mean, std, sample_size,conf_lvl):\n",
    "    z = {80:1.282,85:1.440,90:1.645,95:1.960,99:2.576,99.5:2.807,99.9:3.291}\n",
    "    #needs the standard_error\n",
    "    se = standard_error(std,sample_size)\n",
    "    ci_minus = mean - (z[conf_lvl] * se)\n",
    "    ci_plus = mean + (z[conf_lvl] * se)\n",
    "    ci = (ci_minus,ci_plus)\n",
    "    #returns a tuple\n",
    "    return ci"
   ]
  },
  {
   "cell_type": "markdown",
   "metadata": {},
   "source": [
    "**Given Data :** \n",
    "<br/>\n",
    "Sample size = 5534<br/>\n",
    "Average age at first marriage = 23.44 <br/>\n",
    "Standard Deviation = 4.72"
   ]
  },
  {
   "cell_type": "markdown",
   "metadata": {},
   "source": [
    "Creating a 95 % confidence interval for the average age at first marriage of women."
   ]
  },
  {
   "cell_type": "code",
   "execution_count": 2,
   "metadata": {},
   "outputs": [
    {
     "data": {
      "text/plain": [
       "(23.315640635918452, 23.56435936408155)"
      ]
     },
     "execution_count": 2,
     "metadata": {},
     "output_type": "execute_result"
    }
   ],
   "source": [
    "ci(23.44,4.72,5534,95)"
   ]
  },
  {
   "cell_type": "markdown",
   "metadata": {},
   "source": [
    "**<u>Inference : </u> : ** We are 95% confident that the age of first marriage for women is between 23.315 and 23.56"
   ]
  },
  {
   "cell_type": "code",
   "execution_count": null,
   "metadata": {},
   "outputs": [],
   "source": []
  }
 ],
 "metadata": {
  "kernelspec": {
   "display_name": "Python 3",
   "language": "python",
   "name": "python3"
  },
  "language_info": {
   "codemirror_mode": {
    "name": "ipython",
    "version": 3
   },
   "file_extension": ".py",
   "mimetype": "text/x-python",
   "name": "python",
   "nbconvert_exporter": "python",
   "pygments_lexer": "ipython3",
   "version": "3.6.1"
  }
 },
 "nbformat": 4,
 "nbformat_minor": 2
}
