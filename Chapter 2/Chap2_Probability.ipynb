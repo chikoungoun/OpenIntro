{
 "cells": [
  {
   "cell_type": "markdown",
   "metadata": {},
   "source": [
    "# Probability"
   ]
  },
  {
   "cell_type": "markdown",
   "metadata": {},
   "source": [
    "## 2.1 Defining probability"
   ]
  },
  {
   "cell_type": "markdown",
   "metadata": {},
   "source": [
    "Probability is used as a tool to describe and understand apparent randomness. \n",
    "</br>\n",
    "<br/>\n",
    "- The probability of an outcome is the proportion of times the outcome would occur if we observed the random process an infinite number of times."
   ]
  },
  {
   "cell_type": "markdown",
   "metadata": {},
   "source": [
    "Probability is a proportion. It can be represented by a value ranges between 0 and 1, or with percentage between 0 and 100%"
   ]
  },
  {
   "cell_type": "markdown",
   "metadata": {},
   "source": [
    "#### 2.1.1 Probability"
   ]
  },
  {
   "cell_type": "markdown",
   "metadata": {},
   "source": [
    "Let's consider a 6 sided die. We call $P(rolling \\thinspace a \\thinspace 1)$  [abv. $P(1)$] the probability of rolling a **1**."
   ]
  },
  {
   "cell_type": "markdown",
   "metadata": {},
   "source": [
    "$P(1) = \\frac{1}{6}$"
   ]
  },
  {
   "cell_type": "markdown",
   "metadata": {},
   "source": [
    "#### 2.1.2 Disjoint or mutually exclusive outcomes"
   ]
  },
  {
   "cell_type": "markdown",
   "metadata": {},
   "source": [
    "2 outcomes are called **disjoint** or **mutually exclusive** if they cannot both happen. Like drawing a 1 AND 2 in the same die roll."
   ]
  },
  {
   "cell_type": "markdown",
   "metadata": {},
   "source": [
    "**Calculating the probability of disjoint outcomes : **"
   ]
  },
  {
   "cell_type": "markdown",
   "metadata": {},
   "source": [
    "<h3>$P(1 \\thinspace or \\thinspace 2) = P(1) + P(2) = \\frac{1}{6} + \\frac{1}{6} = \\frac{1}{3}$</h3>"
   ]
  },
  {
   "cell_type": "markdown",
   "metadata": {},
   "source": [
    "-  We call **events** sets of outcomes.(ex : A={1,2}, B={4,6}"
   ]
  },
  {
   "cell_type": "markdown",
   "metadata": {},
   "source": [
    "- **General Addition Rule**\n",
    "<br/>\n",
    "if A and B are any 2 events, <u>disjoint or not</u>, then the probability that at least one of them will occur is :\n",
    "<br/>\n",
    "<h3>$P(A\\thinspace or \\thinspace B) = P(A) + P(B) - P(A \\thinspace and \\thinspace B)$</h3>\n",
    "<br/>\n",
    "where $P(A \\thinspace and \\thinspace B)$ is the probability that both events occur"
   ]
  },
  {
   "cell_type": "markdown",
   "metadata": {},
   "source": [
    "#### 2.1.4 Probability distributions"
   ]
  },
  {
   "cell_type": "markdown",
   "metadata": {},
   "source": [
    "A table of all disjoint outcomes and their associated probabilities"
   ]
  },
  {
   "cell_type": "code",
   "execution_count": 3,
   "metadata": {},
   "outputs": [],
   "source": [
    "import pandas as pd\n",
    "import numpy as np"
   ]
  },
  {
   "cell_type": "markdown",
   "metadata": {},
   "source": [
    "- **Table 2.5** : code sum of 2 dice table"
   ]
  },
  {
   "cell_type": "code",
   "execution_count": 4,
   "metadata": {},
   "outputs": [],
   "source": [
    "die = [1,2,3,4,5,6] # a die\n",
    "die_sum = [2,3,4,5,6,7,8,9,10,11,12] # the sum of 2 dice throw"
   ]
  },
  {
   "cell_type": "code",
   "execution_count": 29,
   "metadata": {},
   "outputs": [
    {
     "name": "stdout",
     "output_type": "stream",
     "text": [
      "[1, 2, 3, 4, 5, 6, 5, 4, 3, 2, 1]\n"
     ]
    }
   ],
   "source": [
    "count = 0\n",
    "l = []\n",
    "for i in die_sum:\n",
    "\n",
    "    for j in die:\n",
    "        if i - j > 0:\n",
    "            count = count + 1\n",
    "    if i > 6:\n",
    "        count = count - (i - (max(die) + 1))\n",
    "    l.append(count)\n",
    "    count = 0\n",
    "\n",
    "print(l)"
   ]
  },
  {
   "cell_type": "code",
   "execution_count": 27,
   "metadata": {},
   "outputs": [
    {
     "data": {
      "text/html": [
       "<div>\n",
       "<style>\n",
       "    .dataframe thead tr:only-child th {\n",
       "        text-align: right;\n",
       "    }\n",
       "\n",
       "    .dataframe thead th {\n",
       "        text-align: left;\n",
       "    }\n",
       "\n",
       "    .dataframe tbody tr th {\n",
       "        vertical-align: top;\n",
       "    }\n",
       "</style>\n",
       "<table border=\"1\" class=\"dataframe\">\n",
       "  <thead>\n",
       "    <tr style=\"text-align: right;\">\n",
       "      <th></th>\n",
       "      <th>2</th>\n",
       "      <th>3</th>\n",
       "      <th>4</th>\n",
       "      <th>5</th>\n",
       "      <th>6</th>\n",
       "      <th>7</th>\n",
       "      <th>8</th>\n",
       "      <th>9</th>\n",
       "      <th>10</th>\n",
       "      <th>11</th>\n",
       "      <th>12</th>\n",
       "    </tr>\n",
       "  </thead>\n",
       "  <tbody>\n",
       "    <tr>\n",
       "      <th>0</th>\n",
       "      <td>1</td>\n",
       "      <td>2</td>\n",
       "      <td>3</td>\n",
       "      <td>4</td>\n",
       "      <td>5</td>\n",
       "      <td>6</td>\n",
       "      <td>5</td>\n",
       "      <td>4</td>\n",
       "      <td>3</td>\n",
       "      <td>2</td>\n",
       "      <td>1</td>\n",
       "    </tr>\n",
       "  </tbody>\n",
       "</table>\n",
       "</div>"
      ],
      "text/plain": [
       "  2  3  4  5  6  7  8  9  10 11 12\n",
       "0  1  2  3  4  5  6  5  4  3  2  1"
      ]
     },
     "execution_count": 27,
     "metadata": {},
     "output_type": "execute_result"
    }
   ],
   "source": [
    "df = pd.DataFrame(columns=die_sum)\n",
    "df.loc[0] = l\n",
    "df\n"
   ]
  },
  {
   "cell_type": "markdown",
   "metadata": {},
   "source": [
    "the probabilitities need to be divided by 36"
   ]
  },
  {
   "cell_type": "code",
   "execution_count": 32,
   "metadata": {
    "scrolled": true
   },
   "outputs": [
    {
     "data": {
      "text/html": [
       "<div>\n",
       "<style>\n",
       "    .dataframe thead tr:only-child th {\n",
       "        text-align: right;\n",
       "    }\n",
       "\n",
       "    .dataframe thead th {\n",
       "        text-align: left;\n",
       "    }\n",
       "\n",
       "    .dataframe tbody tr th {\n",
       "        vertical-align: top;\n",
       "    }\n",
       "</style>\n",
       "<table border=\"1\" class=\"dataframe\">\n",
       "  <thead>\n",
       "    <tr style=\"text-align: right;\">\n",
       "      <th></th>\n",
       "      <th>2</th>\n",
       "      <th>3</th>\n",
       "      <th>4</th>\n",
       "      <th>5</th>\n",
       "      <th>6</th>\n",
       "      <th>7</th>\n",
       "      <th>8</th>\n",
       "      <th>9</th>\n",
       "      <th>10</th>\n",
       "      <th>11</th>\n",
       "      <th>12</th>\n",
       "    </tr>\n",
       "  </thead>\n",
       "  <tbody>\n",
       "    <tr>\n",
       "      <th>0</th>\n",
       "      <td>0.0277778</td>\n",
       "      <td>0.0555556</td>\n",
       "      <td>0.0833333</td>\n",
       "      <td>0.111111</td>\n",
       "      <td>0.138889</td>\n",
       "      <td>0.166667</td>\n",
       "      <td>0.138889</td>\n",
       "      <td>0.111111</td>\n",
       "      <td>0.0833333</td>\n",
       "      <td>0.0555556</td>\n",
       "      <td>0.0277778</td>\n",
       "    </tr>\n",
       "  </tbody>\n",
       "</table>\n",
       "</div>"
      ],
      "text/plain": [
       "          2          3          4         5         6         7         8   \\\n",
       "0  0.0277778  0.0555556  0.0833333  0.111111  0.138889  0.166667  0.138889   \n",
       "\n",
       "         9          10         11         12  \n",
       "0  0.111111  0.0833333  0.0555556  0.0277778  "
      ]
     },
     "execution_count": 32,
     "metadata": {},
     "output_type": "execute_result"
    }
   ],
   "source": [
    "df.loc[0] = df.loc[0] / 36\n",
    "df"
   ]
  },
  {
   "cell_type": "markdown",
   "metadata": {},
   "source": [
    "- **Figure 2.8** The probability distribution og the sum of 2 dice"
   ]
  },
  {
   "cell_type": "code",
   "execution_count": 33,
   "metadata": {},
   "outputs": [],
   "source": [
    "import matplotlib.pyplot as plt\n",
    "%matplotlib inline"
   ]
  },
  {
   "cell_type": "code",
   "execution_count": 45,
   "metadata": {},
   "outputs": [],
   "source": [
    "dx = pd.DataFrame(l,index=die_sum,columns=['Probability'] )\n",
    "dx['Probability'] = dx.Probability /36"
   ]
  },
  {
   "cell_type": "code",
   "execution_count": 46,
   "metadata": {},
   "outputs": [
    {
     "data": {
      "text/plain": [
       "<matplotlib.axes._subplots.AxesSubplot at 0x953af10>"
      ]
     },
     "execution_count": 46,
     "metadata": {},
     "output_type": "execute_result"
    },
    {
     "data": {
      "image/png": "[encoded data removed]",
      "text/plain": [
       "<matplotlib.figure.Figure at 0x9279fb0>"
      ]
     },
     "metadata": {},
     "output_type": "display_data"
    }
   ],
   "source": [
    "dx.plot.bar()"
   ]
  },
  {
   "cell_type": "markdown",
   "metadata": {},
   "source": [
    "#### 2.1.5 Complement of an event"
   ]
  },
  {
   "cell_type": "markdown",
   "metadata": {},
   "source": [
    "The **complement** of an event A is denoted $A^c$. It represents all the outcomes but A.\n",
    "<br/>\n",
    "<h3>$P(A) + P(A^c) = 1, \\thinspace i.e \\  \\thinspace P(A^c) = 1 - P(A) $</h3>"
   ]
  },
  {
   "cell_type": "markdown",
   "metadata": {},
   "source": [
    "#### 2.1.6 Independance"
   ]
  },
  {
   "cell_type": "markdown",
   "metadata": {},
   "source": [
    "2 processes are **independant** if knowing the outcome of one provides no useful information about the outcome of the other. For instance, **flipping a coin** and **rolling a die** (knowing the coin was heads does not help determine the outcome of a die roll)"
   ]
  },
  {
   "cell_type": "markdown",
   "metadata": {},
   "source": [
    "**Multiplication Rule for independent processes**:\n",
    "    <br/>\n",
    "    <br/>\n",
    "    if A and B represent events from 2 different and independent processes, then the probability that both A and B occur can be calculated as the product of their separate probabilities : \n",
    "        <br/>       \n",
    "        <h3>$P(A \\thinspace and \\thinspace B) = P(A) \\thinspace X \\thinspace P(B)$</h3>"
   ]
  },
  {
   "cell_type": "code",
   "execution_count": null,
   "metadata": {},
   "outputs": [],
   "source": []
  }
 ],
 "metadata": {
  "kernelspec": {
   "display_name": "Python 3",
   "language": "python",
   "name": "python3"
  },
  "language_info": {
   "codemirror_mode": {
    "name": "ipython",
    "version": 3
   },
   "file_extension": ".py",
   "mimetype": "text/x-python",
   "name": "python",
   "nbconvert_exporter": "python",
   "pygments_lexer": "ipython3",
   "version": "3.6.1"
  }
 },
 "nbformat": 4,
 "nbformat_minor": 2
}
