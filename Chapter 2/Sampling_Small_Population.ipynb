{
 "cells": [
  {
   "cell_type": "markdown",
   "metadata": {},
   "source": [
    "# Sampling From a small population"
   ]
  },
  {
   "cell_type": "markdown",
   "metadata": {},
   "source": [
    "* **Picking people out of 15 to answer 3 questions, assuming we won't pick the same person twice. what is the probability you won't be picked ?**(without replacement)"
   ]
  },
  {
   "cell_type": "markdown",
   "metadata": {},
   "source": [
    "$P(not \\space picked \\space in \\space 3 \\space Questions)=$\n",
    "$P(Q1=not-picked, Q2=not-picked, Q3=not-picked)=$\n",
    "$\\frac{14}{15}.\\frac{13}{14}.\\frac{12}{13}= 0.80 $\n"
   ]
  },
  {
   "cell_type": "markdown",
   "metadata": {},
   "source": [
    "* **Picking people out of 15 to answer 3 questions, assuming we can pick the same person twice. what is the probability you won't be picked ?**(with replacement)"
   ]
  },
  {
   "cell_type": "markdown",
   "metadata": {},
   "source": [
    "$P(not \\space picked \\space in \\space 3 \\space Questions)=$\n",
    "$P(Q1=not-picked, Q2=not-picked, Q3=not-picked)=$\n",
    "$\\frac{14}{15}.\\frac{14}{15}.\\frac{14}{15}= 0.813 $\n"
   ]
  },
  {
   "cell_type": "code",
   "execution_count": null,
   "metadata": {},
   "outputs": [],
   "source": []
  }
 ],
 "metadata": {
  "kernelspec": {
   "display_name": "Python 3",
   "language": "python",
   "name": "python3"
  },
  "language_info": {
   "codemirror_mode": {
    "name": "ipython",
    "version": 3
   },
   "file_extension": ".py",
   "mimetype": "text/x-python",
   "name": "python",
   "nbconvert_exporter": "python",
   "pygments_lexer": "ipython3",
   "version": "3.6.1"
  }
 },
 "nbformat": 4,
 "nbformat_minor": 2
}
