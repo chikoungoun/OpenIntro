{
 "cells": [
  {
   "cell_type": "markdown",
   "metadata": {},
   "source": [
    "# Sampling From a small population"
   ]
  },
  {
   "cell_type": "markdown",
   "metadata": {},
   "source": [
    "* **Picking people out of 15 to answer 3 questions, assuming we won't pick the same person twice. what is the probability you won't be picked ?**(without replacement)"
   ]
  },
  {
   "cell_type": "markdown",
   "metadata": {},
   "source": [
    "$P(not \\space picked \\space in \\space 3 \\space Questions)=$<br\\>\n",
    "$P(Q1=not-picked, Q2=not-picked, Q3=not-picked)=$<br\\>\n",
    "$\\frac{14}{15}.\\frac{13}{14}.\\frac{12}{13}= 0.80 $\n"
   ]
  },
  {
   "cell_type": "markdown",
   "metadata": {},
   "source": [
    "* **Picking people out of 15 to answer 3 questions, assuming we can pick the same person twice. what is the probability you won't be picked ?**(with replacement)"
   ]
  },
  {
   "cell_type": "markdown",
   "metadata": {},
   "source": [
    "$P(not \\space picked \\space in \\space 3 \\space Questions)=$<br\\>\n",
    "$P(Q1=not-picked, Q2=not-picked, Q3=not-picked)=$<br\\>\n",
    "$\\frac{14}{15}.\\frac{14}{15}.\\frac{14}{15}= 0.813 $\n"
   ]
  },
  {
   "cell_type": "markdown",
   "metadata": {},
   "source": [
    "* **Guided practice 2.65 : ** your department is selling 30 tickets and offers 7 prizes for a raffle sampled without replacement. **Question : ** what's the probability of winning the prize by buying one ticket ?"
   ]
  },
  {
   "cell_type": "markdown",
   "metadata": {},
   "source": [
    "We determine first the probability of not winning :"
   ]
  },
  {
   "cell_type": "markdown",
   "metadata": {},
   "source": [
    "$P(not \\space winning)= \\frac{29}{30}.\\frac{28}{29}.\\frac{27}{28} .\\frac{26}{27}.\\frac{25}{26}.\\frac{24}{25}.\\frac{23}{24} = \\frac{23}{30}$"
   ]
  },
  {
   "cell_type": "markdown",
   "metadata": {},
   "source": [
    "probability to win a prize :"
   ]
  },
  {
   "cell_type": "markdown",
   "metadata": {},
   "source": [
    "$P(winning) = 1 - \\frac{23}{30} = 0.233$"
   ]
  },
  {
   "cell_type": "markdown",
   "metadata": {},
   "source": [
    "**Question : ** what's the probability of winning the prize by buying one ticket WITH REPLACEMENT?"
   ]
  },
  {
   "cell_type": "markdown",
   "metadata": {},
   "source": [
    "Probability of not winning :"
   ]
  },
  {
   "cell_type": "markdown",
   "metadata": {},
   "source": [
    "$P(not \\space winning) = (\\frac{29}{30})^7 = 0.789$"
   ]
  },
  {
   "cell_type": "markdown",
   "metadata": {},
   "source": [
    "probability to win the prize : "
   ]
  },
  {
   "cell_type": "markdown",
   "metadata": {},
   "source": [
    "$P(Winning) = 1 - 0.789 = 0.211$"
   ]
  },
  {
   "cell_type": "code",
   "execution_count": null,
   "metadata": {},
   "outputs": [],
   "source": []
  }
 ],
 "metadata": {
  "kernelspec": {
   "display_name": "Python 3",
   "language": "python",
   "name": "python3"
  },
  "language_info": {
   "codemirror_mode": {
    "name": "ipython",
    "version": 3
   },
   "file_extension": ".py",
   "mimetype": "text/x-python",
   "name": "python",
   "nbconvert_exporter": "python",
   "pygments_lexer": "ipython3",
   "version": "3.6.1"
  }
 },
 "nbformat": 4,
 "nbformat_minor": 2
}
