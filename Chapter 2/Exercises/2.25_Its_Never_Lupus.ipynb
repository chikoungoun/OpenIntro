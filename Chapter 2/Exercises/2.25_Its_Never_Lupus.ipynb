{
 "cells": [
  {
   "cell_type": "markdown",
   "metadata": {},
   "source": [
    "# Exercise 2.25  page(122) : It's Never Lupus (with Bayes Theorem)"
   ]
  },
  {
   "cell_type": "markdown",
   "metadata": {},
   "source": [
    "Probability that a patient has Lupus when he tests positive"
   ]
  },
  {
   "cell_type": "code",
   "execution_count": 1,
   "metadata": {},
   "outputs": [],
   "source": [
    "#Function to compute the Bayes Theorem\n",
    "def bayes(x,nx,y,y_x,y_nx):\n",
    "    return (y_x*x)/((y_nx*nx)+(y_x*x))"
   ]
  },
  {
   "cell_type": "markdown",
   "metadata": {},
   "source": [
    "We set the Datas"
   ]
  },
  {
   "cell_type": "markdown",
   "metadata": {},
   "source": [
    "* **P(Lupus) = 0.02 :  **Probability of carrying Lupus\n",
    "* **P(7Lupus) = 0.98 :** Probability of not carrying Lupus\n",
    "* **P(Positive) :** probability of testing positive \n",
    "* **P(7Positive):**  Probability of testing negative"
   ]
  },
  {
   "cell_type": "markdown",
   "metadata": {},
   "source": [
    "* **P(Positive|Lupus) **= 0.98\n",
    "* **P(Positive|7Lupus)** = 0.26"
   ]
  },
  {
   "cell_type": "code",
   "execution_count": 2,
   "metadata": {},
   "outputs": [],
   "source": [
    "# Assigning Variables\n",
    "L = 0.02\n",
    "nL= 0.98\n",
    "P_L= 0.98\n",
    "P_nL= 0.26"
   ]
  },
  {
   "cell_type": "markdown",
   "metadata": {},
   "source": [
    "We need to solve the equation : $P(7Lupus|Negative)$"
   ]
  },
  {
   "cell_type": "markdown",
   "metadata": {},
   "source": [
    "First we need to find $P(Negative)$ : "
   ]
  },
  {
   "cell_type": "markdown",
   "metadata": {},
   "source": [
    "$P(Positive) = P(Lupus).P(Positive|Lupus) + P(7Lupus).P(Positive|7Lupus)=$<br/>\n",
    "$P(Positive) = (0.02).(0.98)+(0.98).(0.26) = $<br/>\n",
    "$= 0.2744$"
   ]
  },
  {
   "cell_type": "code",
   "execution_count": 3,
   "metadata": {},
   "outputs": [],
   "source": [
    "# Assigning the Negative probability\n",
    "P = 0.2744"
   ]
  },
  {
   "cell_type": "markdown",
   "metadata": {},
   "source": [
    "We compute now using the function : "
   ]
  },
  {
   "cell_type": "code",
   "execution_count": 4,
   "metadata": {},
   "outputs": [
    {
     "name": "stdout",
     "output_type": "stream",
     "text": [
      "7.14 %\n"
     ]
    }
   ],
   "source": [
    "print(round(bayes(L,nL,P,P_L,P_nL)*100,2),'%')"
   ]
  },
  {
   "cell_type": "markdown",
   "metadata": {},
   "source": [
    "$P(Lupus|Positive) = 7.14$%"
   ]
  },
  {
   "cell_type": "code",
   "execution_count": null,
   "metadata": {},
   "outputs": [],
   "source": []
  }
 ],
 "metadata": {
  "kernelspec": {
   "display_name": "Python 3",
   "language": "python",
   "name": "python3"
  },
  "language_info": {
   "codemirror_mode": {
    "name": "ipython",
    "version": 3
   },
   "file_extension": ".py",
   "mimetype": "text/x-python",
   "name": "python",
   "nbconvert_exporter": "python",
   "pygments_lexer": "ipython3",
   "version": "3.6.1"
  }
 },
 "nbformat": 4,
 "nbformat_minor": 2
}
