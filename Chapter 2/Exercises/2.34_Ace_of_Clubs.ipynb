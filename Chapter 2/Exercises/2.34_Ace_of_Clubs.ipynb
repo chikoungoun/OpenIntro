{
 "cells": [
  {
   "cell_type": "markdown",
   "metadata": {},
   "source": [
    "# 2.34 Ace of clubs wins (mean and STD)"
   ]
  },
  {
   "cell_type": "markdown",
   "metadata": {},
   "source": [
    "Consider the following card game with a well-shuffled deck of cards.\n",
    "If you draw a red card, you win nothing. If you get a spade, you win 5 dollars. For any club, you win\n",
    "10 dollars  plus an extra 20 dollars for the ace of clubs."
   ]
  },
  {
   "cell_type": "code",
   "execution_count": 9,
   "metadata": {},
   "outputs": [],
   "source": [
    "import math"
   ]
  },
  {
   "cell_type": "code",
   "execution_count": 2,
   "metadata": {},
   "outputs": [],
   "source": [
    "\"\"\" Wirks using a list of tuples (x,P(x))\"\"\"\n",
    "#Mean function\n",
    "def mean(l):\n",
    "    s=0\n",
    "    for i in t:\n",
    "        s = s +(i[0] * i[1])\n",
    "    return s"
   ]
  },
  {
   "cell_type": "code",
   "execution_count": 3,
   "metadata": {},
   "outputs": [],
   "source": [
    "#Standard Deviation\n",
    "def std(l):\n",
    "\n",
    "    s = 0\n",
    "    mu = mean(l)\n",
    "\n",
    "    for i in l:\n",
    "        s = s + (((i[0] - mu)**2) * i[1] )\n",
    "\n",
    "    return math.sqrt(s)"
   ]
  },
  {
   "cell_type": "markdown",
   "metadata": {},
   "source": [
    "**question : ** Compute a statistical model, find the mean and the standard deviation"
   ]
  },
  {
   "cell_type": "markdown",
   "metadata": {},
   "source": [
    "* **Mean : **"
   ]
  },
  {
   "cell_type": "code",
   "execution_count": 6,
   "metadata": {},
   "outputs": [],
   "source": [
    "\"\"\"Setting up variables\"\"\"\n",
    "# list of tuples\n",
    "\n",
    "x1 = (0,26/52)\n",
    "x2 = (5,13/52)\n",
    "x3 = (10,12/52)\n",
    "x4 = (30,1/52)\n",
    "t = [x1,x2,x3,x4]\n"
   ]
  },
  {
   "cell_type": "code",
   "execution_count": 13,
   "metadata": {},
   "outputs": [
    {
     "name": "stdout",
     "output_type": "stream",
     "text": [
      "4.1346\n"
     ]
    }
   ],
   "source": [
    "#computing the mean\n",
    "ex = mean(t)\n",
    "\n",
    "print(round(ex,4))\n",
    "\n"
   ]
  },
  {
   "cell_type": "markdown",
   "metadata": {},
   "source": [
    "* **Standard Deviation**"
   ]
  },
  {
   "cell_type": "code",
   "execution_count": 14,
   "metadata": {},
   "outputs": [
    {
     "name": "stdout",
     "output_type": "stream",
     "text": [
      "5.435\n"
     ]
    }
   ],
   "source": [
    "#computing the standard deviation\n",
    "s = std(t)\n",
    "print(round(s,4))"
   ]
  },
  {
   "cell_type": "code",
   "execution_count": null,
   "metadata": {},
   "outputs": [],
   "source": []
  }
 ],
 "metadata": {
  "kernelspec": {
   "display_name": "Python 3",
   "language": "python",
   "name": "python3"
  },
  "language_info": {
   "codemirror_mode": {
    "name": "ipython",
    "version": 3
   },
   "file_extension": ".py",
   "mimetype": "text/x-python",
   "name": "python",
   "nbconvert_exporter": "python",
   "pygments_lexer": "ipython3",
   "version": "3.6.1"
  }
 },
 "nbformat": 4,
 "nbformat_minor": 2
}
