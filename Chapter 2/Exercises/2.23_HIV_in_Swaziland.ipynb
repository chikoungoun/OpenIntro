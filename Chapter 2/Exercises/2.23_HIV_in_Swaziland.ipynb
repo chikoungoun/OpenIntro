{
 "cells": [
  {
   "cell_type": "markdown",
   "metadata": {},
   "source": [
    "# Exercise 2.23 (page121) : Solving with Bayes Theorem"
   ]
  },
  {
   "cell_type": "markdown",
   "metadata": {},
   "source": [
    "We need to find the probability that an individual carries HIV, if he is tested positive by the ELISA test"
   ]
  },
  {
   "cell_type": "code",
   "execution_count": 1,
   "metadata": {},
   "outputs": [],
   "source": [
    "#Function to compute the Bayes Theorem\n",
    "def bayes(x,nx,y,y_x,y_nx):\n",
    "    return (y_x*x)/((y_nx*nx)+(y_x*x))"
   ]
  },
  {
   "cell_type": "markdown",
   "metadata": {},
   "source": [
    " We set the datas"
   ]
  },
  {
   "cell_type": "markdown",
   "metadata": {},
   "source": [
    "* **P(HIV) = 0.259 :  **Probability of carrying HIV\n",
    "* **P(7HIV) = 0.741 :** Probability of not carrying HIV\n",
    "* **P(Elisa) :** probability of testing positive (seropositive)\n",
    "* **P(7Elisa):**  Probability of testing negative"
   ]
  },
  {
   "cell_type": "markdown",
   "metadata": {},
   "source": [
    "* **P(Elisa|HIV) **= 0.997\n",
    "* **P(Elisa|7HIV)** = 0.074"
   ]
  },
  {
   "cell_type": "code",
   "execution_count": 2,
   "metadata": {},
   "outputs": [],
   "source": [
    "# Assigning Variables\n",
    "H = 0.259\n",
    "nH= 0.741\n",
    "E_H= 0.997\n",
    "E_nH= 0.074"
   ]
  },
  {
   "cell_type": "markdown",
   "metadata": {},
   "source": [
    "We need to solve the equation : "
   ]
  },
  {
   "cell_type": "markdown",
   "metadata": {},
   "source": [
    "$P(HIV|Elisa)$"
   ]
  },
  {
   "cell_type": "markdown",
   "metadata": {},
   "source": [
    "First we need to find $P(Elisa)$ : "
   ]
  },
  {
   "cell_type": "markdown",
   "metadata": {},
   "source": [
    "$P(Elisa) = P(HIV).P(Elisa|HIV) + P(7HIV).P(Elisa|7HIV)=$<br/>\n",
    "$P(Elisa) = (0.259).(0.997)+(0.741).(0.074) = $<br/>\n",
    "$= 0.313$"
   ]
  },
  {
   "cell_type": "code",
   "execution_count": 3,
   "metadata": {},
   "outputs": [],
   "source": [
    "# Assigning the Elisa probability\n",
    "E = 0.313"
   ]
  },
  {
   "cell_type": "markdown",
   "metadata": {},
   "source": [
    "We compute now using the function : "
   ]
  },
  {
   "cell_type": "code",
   "execution_count": 6,
   "metadata": {},
   "outputs": [
    {
     "name": "stdout",
     "output_type": "stream",
     "text": [
      "82.48 %\n"
     ]
    }
   ],
   "source": [
    "print(round(bayes(H,nH,E,E_H,E_nH)*100,2),'%')"
   ]
  },
  {
   "cell_type": "markdown",
   "metadata": {},
   "source": [
    "$P(HIV|Elisa) = 82.48%$%"
   ]
  },
  {
   "cell_type": "code",
   "execution_count": null,
   "metadata": {},
   "outputs": [],
   "source": []
  }
 ],
 "metadata": {
  "kernelspec": {
   "display_name": "Python 3",
   "language": "python",
   "name": "python3"
  },
  "language_info": {
   "codemirror_mode": {
    "name": "ipython",
    "version": 3
   },
   "file_extension": ".py",
   "mimetype": "text/x-python",
   "name": "python",
   "nbconvert_exporter": "python",
   "pygments_lexer": "ipython3",
   "version": "3.6.1"
  }
 },
 "nbformat": 4,
 "nbformat_minor": 2
}
