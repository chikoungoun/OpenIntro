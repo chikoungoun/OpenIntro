{
 "cells": [
  {
   "cell_type": "markdown",
   "metadata": {},
   "source": [
    "# 2.24 Exit poll with Bayes Theorem"
   ]
  },
  {
   "cell_type": "markdown",
   "metadata": {},
   "source": [
    "What is the probability that a random dude with college degree voted for Scott Walker"
   ]
  },
  {
   "cell_type": "code",
   "execution_count": 1,
   "metadata": {},
   "outputs": [],
   "source": [
    "#Function to compute the Bayes Theorem\n",
    "def bayes(x,nx,y,y_x,y_nx):\n",
    "    return (y_x*x)/((y_nx*nx)+(y_x*x))"
   ]
  },
  {
   "cell_type": "markdown",
   "metadata": {},
   "source": [
    "Given:"
   ]
  },
  {
   "cell_type": "markdown",
   "metadata": {},
   "source": [
    "* **P(W)= 0.53  :** Voted for Scott Walker\n",
    "* **P(7W)= 0.44 :** Didn't vote for him\n",
    "* **P(C)        : **People who have a College degree\n",
    "* **P(7C)       :** People who don't"
   ]
  },
  {
   "cell_type": "markdown",
   "metadata": {},
   "source": [
    "* **P(C|W) = 0.196:**People with college degrees who voted for Walker\n",
    "* **P(C|7W)= 0.207:**People with College degrees who didn't vote for him"
   ]
  },
  {
   "cell_type": "code",
   "execution_count": 5,
   "metadata": {},
   "outputs": [],
   "source": [
    "#Assigning Variables\n",
    "W = 0.53\n",
    "nW = 1-W\n",
    "C_W = 0.37\n",
    "C_nW = 0.44"
   ]
  },
  {
   "cell_type": "markdown",
   "metadata": {},
   "source": [
    "We need to solve :\n",
    "    $P(W|C)$."
   ]
  },
  {
   "cell_type": "markdown",
   "metadata": {},
   "source": [
    "First we need to find $P(C)$:"
   ]
  },
  {
   "cell_type": "markdown",
   "metadata": {},
   "source": [
    "$P(C) = P(W).P(C|W) + P(7W).P(C|7W)=$<br/>\n",
    "$P(C) = (0.53).(0.37)+(0.47).(0.44) = $<br/>\n",
    "$= 0.4029$"
   ]
  },
  {
   "cell_type": "code",
   "execution_count": 7,
   "metadata": {},
   "outputs": [],
   "source": [
    "#Assigning the College Degree variable\n",
    "C=0.4029"
   ]
  },
  {
   "cell_type": "markdown",
   "metadata": {},
   "source": [
    "We compute now using the function :"
   ]
  },
  {
   "cell_type": "code",
   "execution_count": 8,
   "metadata": {},
   "outputs": [
    {
     "name": "stdout",
     "output_type": "stream",
     "text": [
      "48.67 %\n"
     ]
    }
   ],
   "source": [
    "print(round(bayes(W,nW,C,C_W,C_nW)*100,2),'%')"
   ]
  },
  {
   "cell_type": "markdown",
   "metadata": {},
   "source": [
    "$P(W|C) = 48.67%$%"
   ]
  },
  {
   "cell_type": "code",
   "execution_count": null,
   "metadata": {},
   "outputs": [],
   "source": []
  }
 ],
 "metadata": {
  "kernelspec": {
   "display_name": "Python 3",
   "language": "python",
   "name": "python3"
  },
  "language_info": {
   "codemirror_mode": {
    "name": "ipython",
    "version": 3
   },
   "file_extension": ".py",
   "mimetype": "text/x-python",
   "name": "python",
   "nbconvert_exporter": "python",
   "pygments_lexer": "ipython3",
   "version": "3.6.1"
  }
 },
 "nbformat": 4,
 "nbformat_minor": 2
}
