{
 "cells": [
  {
   "cell_type": "markdown",
   "metadata": {},
   "source": [
    "# Introduction to data"
   ]
  },
  {
   "cell_type": "markdown",
   "metadata": {},
   "source": [
    "Statistics is the study of how best to collect, analyze and draw conclusions from data following a general process of investigation :\n",
    "    1. Identify a question or problem\n",
    "    2. Collect relevant data on topic\n",
    "    3. Analyze the data\n",
    "    4. Form a conslusion"
   ]
  },
  {
   "cell_type": "markdown",
   "metadata": {},
   "source": [
    "Statistics should answer 3 primary questions :\n",
    "    * how best we collect data ?\n",
    "    * how should it be analyzed ?\n",
    "    * What can we infer from the analysis ?"
   ]
  },
  {
   "cell_type": "markdown",
   "metadata": {},
   "source": [
    " ## 1.1 Case Study : using stents to prevent strokes "
   ]
  },
  {
   "cell_type": "markdown",
   "metadata": {},
   "source": [
    "**Generating a table of observations for trreatment and control group of a stent efficiency study**"
   ]
  },
  {
   "cell_type": "code",
   "execution_count": 1,
   "metadata": {},
   "outputs": [],
   "source": [
    "import pandas as pd\n",
    "import numpy as np\n",
    "pd.options.display.max_rows = 20 # control the number of rows printed"
   ]
  },
  {
   "cell_type": "markdown",
   "metadata": {},
   "source": [
    "Creating 2 distinct groups respecting the amount of observations given in the book : "
   ]
  },
  {
   "cell_type": "code",
   "execution_count": 2,
   "metadata": {},
   "outputs": [
    {
     "data": {
      "text/html": [
       "<div>\n",
       "<style>\n",
       "    .dataframe thead tr:only-child th {\n",
       "        text-align: right;\n",
       "    }\n",
       "\n",
       "    .dataframe thead th {\n",
       "        text-align: left;\n",
       "    }\n",
       "\n",
       "    .dataframe tbody tr th {\n",
       "        vertical-align: top;\n",
       "    }\n",
       "</style>\n",
       "<table border=\"1\" class=\"dataframe\">\n",
       "  <thead>\n",
       "    <tr style=\"text-align: right;\">\n",
       "      <th></th>\n",
       "      <th>group</th>\n",
       "      <th>thirty_days</th>\n",
       "      <th>365days</th>\n",
       "    </tr>\n",
       "  </thead>\n",
       "  <tbody>\n",
       "    <tr>\n",
       "      <th>0</th>\n",
       "      <td>treatment</td>\n",
       "      <td>no event</td>\n",
       "      <td>no event</td>\n",
       "    </tr>\n",
       "    <tr>\n",
       "      <th>1</th>\n",
       "      <td>treatment</td>\n",
       "      <td>no event</td>\n",
       "      <td>no event</td>\n",
       "    </tr>\n",
       "    <tr>\n",
       "      <th>2</th>\n",
       "      <td>treatment</td>\n",
       "      <td>no event</td>\n",
       "      <td>no event</td>\n",
       "    </tr>\n",
       "    <tr>\n",
       "      <th>3</th>\n",
       "      <td>treatment</td>\n",
       "      <td>no event</td>\n",
       "      <td>no event</td>\n",
       "    </tr>\n",
       "    <tr>\n",
       "      <th>4</th>\n",
       "      <td>treatment</td>\n",
       "      <td>no event</td>\n",
       "      <td>no event</td>\n",
       "    </tr>\n",
       "    <tr>\n",
       "      <th>5</th>\n",
       "      <td>treatment</td>\n",
       "      <td>no event</td>\n",
       "      <td>no event</td>\n",
       "    </tr>\n",
       "    <tr>\n",
       "      <th>6</th>\n",
       "      <td>treatment</td>\n",
       "      <td>no event</td>\n",
       "      <td>no event</td>\n",
       "    </tr>\n",
       "    <tr>\n",
       "      <th>7</th>\n",
       "      <td>treatment</td>\n",
       "      <td>no event</td>\n",
       "      <td>no event</td>\n",
       "    </tr>\n",
       "    <tr>\n",
       "      <th>8</th>\n",
       "      <td>treatment</td>\n",
       "      <td>no event</td>\n",
       "      <td>no event</td>\n",
       "    </tr>\n",
       "    <tr>\n",
       "      <th>9</th>\n",
       "      <td>treatment</td>\n",
       "      <td>no event</td>\n",
       "      <td>no event</td>\n",
       "    </tr>\n",
       "    <tr>\n",
       "      <th>...</th>\n",
       "      <td>...</td>\n",
       "      <td>...</td>\n",
       "      <td>...</td>\n",
       "    </tr>\n",
       "    <tr>\n",
       "      <th>214</th>\n",
       "      <td>treatment</td>\n",
       "      <td>stroke</td>\n",
       "      <td>stroke</td>\n",
       "    </tr>\n",
       "    <tr>\n",
       "      <th>215</th>\n",
       "      <td>treatment</td>\n",
       "      <td>stroke</td>\n",
       "      <td>stroke</td>\n",
       "    </tr>\n",
       "    <tr>\n",
       "      <th>216</th>\n",
       "      <td>treatment</td>\n",
       "      <td>stroke</td>\n",
       "      <td>stroke</td>\n",
       "    </tr>\n",
       "    <tr>\n",
       "      <th>217</th>\n",
       "      <td>treatment</td>\n",
       "      <td>stroke</td>\n",
       "      <td>stroke</td>\n",
       "    </tr>\n",
       "    <tr>\n",
       "      <th>218</th>\n",
       "      <td>treatment</td>\n",
       "      <td>stroke</td>\n",
       "      <td>stroke</td>\n",
       "    </tr>\n",
       "    <tr>\n",
       "      <th>219</th>\n",
       "      <td>treatment</td>\n",
       "      <td>stroke</td>\n",
       "      <td>stroke</td>\n",
       "    </tr>\n",
       "    <tr>\n",
       "      <th>220</th>\n",
       "      <td>treatment</td>\n",
       "      <td>stroke</td>\n",
       "      <td>stroke</td>\n",
       "    </tr>\n",
       "    <tr>\n",
       "      <th>221</th>\n",
       "      <td>treatment</td>\n",
       "      <td>stroke</td>\n",
       "      <td>stroke</td>\n",
       "    </tr>\n",
       "    <tr>\n",
       "      <th>222</th>\n",
       "      <td>treatment</td>\n",
       "      <td>stroke</td>\n",
       "      <td>stroke</td>\n",
       "    </tr>\n",
       "    <tr>\n",
       "      <th>223</th>\n",
       "      <td>treatment</td>\n",
       "      <td>stroke</td>\n",
       "      <td>stroke</td>\n",
       "    </tr>\n",
       "  </tbody>\n",
       "</table>\n",
       "<p>224 rows × 3 columns</p>\n",
       "</div>"
      ],
      "text/plain": [
       "         group thirty_days   365days\n",
       "0    treatment    no event  no event\n",
       "1    treatment    no event  no event\n",
       "2    treatment    no event  no event\n",
       "3    treatment    no event  no event\n",
       "4    treatment    no event  no event\n",
       "5    treatment    no event  no event\n",
       "6    treatment    no event  no event\n",
       "7    treatment    no event  no event\n",
       "8    treatment    no event  no event\n",
       "9    treatment    no event  no event\n",
       "..         ...         ...       ...\n",
       "214  treatment      stroke    stroke\n",
       "215  treatment      stroke    stroke\n",
       "216  treatment      stroke    stroke\n",
       "217  treatment      stroke    stroke\n",
       "218  treatment      stroke    stroke\n",
       "219  treatment      stroke    stroke\n",
       "220  treatment      stroke    stroke\n",
       "221  treatment      stroke    stroke\n",
       "222  treatment      stroke    stroke\n",
       "223  treatment      stroke    stroke\n",
       "\n",
       "[224 rows x 3 columns]"
      ]
     },
     "execution_count": 2,
     "metadata": {},
     "output_type": "execute_result"
    }
   ],
   "source": [
    "#Creating the treatment group\n",
    "treatment = pd.DataFrame(columns=['group','thirty_days','365days'])\n",
    "treatment['group'] =  ['treatment']*224\n",
    "treatment['thirty_days'] = (['no event']*191)  +  (['stroke']*33)\n",
    "treatment['365days'] = (['no event']*179) + (['stroke'] * 45)\n",
    "treatment"
   ]
  },
  {
   "cell_type": "code",
   "execution_count": 3,
   "metadata": {},
   "outputs": [
    {
     "data": {
      "text/html": [
       "<div>\n",
       "<style>\n",
       "    .dataframe thead tr:only-child th {\n",
       "        text-align: right;\n",
       "    }\n",
       "\n",
       "    .dataframe thead th {\n",
       "        text-align: left;\n",
       "    }\n",
       "\n",
       "    .dataframe tbody tr th {\n",
       "        vertical-align: top;\n",
       "    }\n",
       "</style>\n",
       "<table border=\"1\" class=\"dataframe\">\n",
       "  <thead>\n",
       "    <tr style=\"text-align: right;\">\n",
       "      <th></th>\n",
       "      <th>group</th>\n",
       "      <th>thirty_days</th>\n",
       "      <th>365days</th>\n",
       "    </tr>\n",
       "  </thead>\n",
       "  <tbody>\n",
       "    <tr>\n",
       "      <th>0</th>\n",
       "      <td>control</td>\n",
       "      <td>no event</td>\n",
       "      <td>no event</td>\n",
       "    </tr>\n",
       "    <tr>\n",
       "      <th>1</th>\n",
       "      <td>control</td>\n",
       "      <td>no event</td>\n",
       "      <td>no event</td>\n",
       "    </tr>\n",
       "    <tr>\n",
       "      <th>2</th>\n",
       "      <td>control</td>\n",
       "      <td>no event</td>\n",
       "      <td>no event</td>\n",
       "    </tr>\n",
       "    <tr>\n",
       "      <th>3</th>\n",
       "      <td>control</td>\n",
       "      <td>no event</td>\n",
       "      <td>no event</td>\n",
       "    </tr>\n",
       "    <tr>\n",
       "      <th>4</th>\n",
       "      <td>control</td>\n",
       "      <td>no event</td>\n",
       "      <td>no event</td>\n",
       "    </tr>\n",
       "    <tr>\n",
       "      <th>5</th>\n",
       "      <td>control</td>\n",
       "      <td>no event</td>\n",
       "      <td>no event</td>\n",
       "    </tr>\n",
       "    <tr>\n",
       "      <th>6</th>\n",
       "      <td>control</td>\n",
       "      <td>no event</td>\n",
       "      <td>no event</td>\n",
       "    </tr>\n",
       "    <tr>\n",
       "      <th>7</th>\n",
       "      <td>control</td>\n",
       "      <td>no event</td>\n",
       "      <td>no event</td>\n",
       "    </tr>\n",
       "    <tr>\n",
       "      <th>8</th>\n",
       "      <td>control</td>\n",
       "      <td>no event</td>\n",
       "      <td>no event</td>\n",
       "    </tr>\n",
       "    <tr>\n",
       "      <th>9</th>\n",
       "      <td>control</td>\n",
       "      <td>no event</td>\n",
       "      <td>no event</td>\n",
       "    </tr>\n",
       "    <tr>\n",
       "      <th>...</th>\n",
       "      <td>...</td>\n",
       "      <td>...</td>\n",
       "      <td>...</td>\n",
       "    </tr>\n",
       "    <tr>\n",
       "      <th>217</th>\n",
       "      <td>control</td>\n",
       "      <td>stroke</td>\n",
       "      <td>stroke</td>\n",
       "    </tr>\n",
       "    <tr>\n",
       "      <th>218</th>\n",
       "      <td>control</td>\n",
       "      <td>stroke</td>\n",
       "      <td>stroke</td>\n",
       "    </tr>\n",
       "    <tr>\n",
       "      <th>219</th>\n",
       "      <td>control</td>\n",
       "      <td>stroke</td>\n",
       "      <td>stroke</td>\n",
       "    </tr>\n",
       "    <tr>\n",
       "      <th>220</th>\n",
       "      <td>control</td>\n",
       "      <td>stroke</td>\n",
       "      <td>stroke</td>\n",
       "    </tr>\n",
       "    <tr>\n",
       "      <th>221</th>\n",
       "      <td>control</td>\n",
       "      <td>stroke</td>\n",
       "      <td>stroke</td>\n",
       "    </tr>\n",
       "    <tr>\n",
       "      <th>222</th>\n",
       "      <td>control</td>\n",
       "      <td>stroke</td>\n",
       "      <td>stroke</td>\n",
       "    </tr>\n",
       "    <tr>\n",
       "      <th>223</th>\n",
       "      <td>control</td>\n",
       "      <td>stroke</td>\n",
       "      <td>stroke</td>\n",
       "    </tr>\n",
       "    <tr>\n",
       "      <th>224</th>\n",
       "      <td>control</td>\n",
       "      <td>stroke</td>\n",
       "      <td>stroke</td>\n",
       "    </tr>\n",
       "    <tr>\n",
       "      <th>225</th>\n",
       "      <td>control</td>\n",
       "      <td>stroke</td>\n",
       "      <td>stroke</td>\n",
       "    </tr>\n",
       "    <tr>\n",
       "      <th>226</th>\n",
       "      <td>control</td>\n",
       "      <td>stroke</td>\n",
       "      <td>stroke</td>\n",
       "    </tr>\n",
       "  </tbody>\n",
       "</table>\n",
       "<p>227 rows × 3 columns</p>\n",
       "</div>"
      ],
      "text/plain": [
       "       group thirty_days   365days\n",
       "0    control    no event  no event\n",
       "1    control    no event  no event\n",
       "2    control    no event  no event\n",
       "3    control    no event  no event\n",
       "4    control    no event  no event\n",
       "5    control    no event  no event\n",
       "6    control    no event  no event\n",
       "7    control    no event  no event\n",
       "8    control    no event  no event\n",
       "9    control    no event  no event\n",
       "..       ...         ...       ...\n",
       "217  control      stroke    stroke\n",
       "218  control      stroke    stroke\n",
       "219  control      stroke    stroke\n",
       "220  control      stroke    stroke\n",
       "221  control      stroke    stroke\n",
       "222  control      stroke    stroke\n",
       "223  control      stroke    stroke\n",
       "224  control      stroke    stroke\n",
       "225  control      stroke    stroke\n",
       "226  control      stroke    stroke\n",
       "\n",
       "[227 rows x 3 columns]"
      ]
     },
     "execution_count": 3,
     "metadata": {},
     "output_type": "execute_result"
    }
   ],
   "source": [
    "#creating the control group\n",
    "control = pd.DataFrame(columns=['group','thirty_days','365days'])\n",
    "control['group'] = ['control']*227\n",
    "control['thirty_days'] = (['no event']*214)+(['stroke']*13)\n",
    "control['365days'] = (['no event'] * 199)+(['stroke']*28)\n",
    "control"
   ]
  },
  {
   "cell_type": "markdown",
   "metadata": {},
   "source": [
    "Merge the 2 Datraframes to produce the same table as the example :"
   ]
  },
  {
   "cell_type": "code",
   "execution_count": 4,
   "metadata": {},
   "outputs": [
    {
     "data": {
      "text/html": [
       "<div>\n",
       "<style>\n",
       "    .dataframe thead tr:only-child th {\n",
       "        text-align: right;\n",
       "    }\n",
       "\n",
       "    .dataframe thead th {\n",
       "        text-align: left;\n",
       "    }\n",
       "\n",
       "    .dataframe tbody tr th {\n",
       "        vertical-align: top;\n",
       "    }\n",
       "</style>\n",
       "<table border=\"1\" class=\"dataframe\">\n",
       "  <thead>\n",
       "    <tr style=\"text-align: right;\">\n",
       "      <th></th>\n",
       "      <th>group</th>\n",
       "      <th>thirty_days</th>\n",
       "      <th>365days</th>\n",
       "    </tr>\n",
       "  </thead>\n",
       "  <tbody>\n",
       "    <tr>\n",
       "      <th>0</th>\n",
       "      <td>treatment</td>\n",
       "      <td>no event</td>\n",
       "      <td>no event</td>\n",
       "    </tr>\n",
       "    <tr>\n",
       "      <th>1</th>\n",
       "      <td>treatment</td>\n",
       "      <td>no event</td>\n",
       "      <td>no event</td>\n",
       "    </tr>\n",
       "    <tr>\n",
       "      <th>2</th>\n",
       "      <td>treatment</td>\n",
       "      <td>no event</td>\n",
       "      <td>no event</td>\n",
       "    </tr>\n",
       "    <tr>\n",
       "      <th>3</th>\n",
       "      <td>treatment</td>\n",
       "      <td>no event</td>\n",
       "      <td>no event</td>\n",
       "    </tr>\n",
       "    <tr>\n",
       "      <th>4</th>\n",
       "      <td>treatment</td>\n",
       "      <td>no event</td>\n",
       "      <td>no event</td>\n",
       "    </tr>\n",
       "    <tr>\n",
       "      <th>5</th>\n",
       "      <td>treatment</td>\n",
       "      <td>no event</td>\n",
       "      <td>no event</td>\n",
       "    </tr>\n",
       "    <tr>\n",
       "      <th>6</th>\n",
       "      <td>treatment</td>\n",
       "      <td>no event</td>\n",
       "      <td>no event</td>\n",
       "    </tr>\n",
       "    <tr>\n",
       "      <th>7</th>\n",
       "      <td>treatment</td>\n",
       "      <td>no event</td>\n",
       "      <td>no event</td>\n",
       "    </tr>\n",
       "    <tr>\n",
       "      <th>8</th>\n",
       "      <td>treatment</td>\n",
       "      <td>no event</td>\n",
       "      <td>no event</td>\n",
       "    </tr>\n",
       "    <tr>\n",
       "      <th>9</th>\n",
       "      <td>treatment</td>\n",
       "      <td>no event</td>\n",
       "      <td>no event</td>\n",
       "    </tr>\n",
       "    <tr>\n",
       "      <th>...</th>\n",
       "      <td>...</td>\n",
       "      <td>...</td>\n",
       "      <td>...</td>\n",
       "    </tr>\n",
       "    <tr>\n",
       "      <th>441</th>\n",
       "      <td>control</td>\n",
       "      <td>stroke</td>\n",
       "      <td>stroke</td>\n",
       "    </tr>\n",
       "    <tr>\n",
       "      <th>442</th>\n",
       "      <td>control</td>\n",
       "      <td>stroke</td>\n",
       "      <td>stroke</td>\n",
       "    </tr>\n",
       "    <tr>\n",
       "      <th>443</th>\n",
       "      <td>control</td>\n",
       "      <td>stroke</td>\n",
       "      <td>stroke</td>\n",
       "    </tr>\n",
       "    <tr>\n",
       "      <th>444</th>\n",
       "      <td>control</td>\n",
       "      <td>stroke</td>\n",
       "      <td>stroke</td>\n",
       "    </tr>\n",
       "    <tr>\n",
       "      <th>445</th>\n",
       "      <td>control</td>\n",
       "      <td>stroke</td>\n",
       "      <td>stroke</td>\n",
       "    </tr>\n",
       "    <tr>\n",
       "      <th>446</th>\n",
       "      <td>control</td>\n",
       "      <td>stroke</td>\n",
       "      <td>stroke</td>\n",
       "    </tr>\n",
       "    <tr>\n",
       "      <th>447</th>\n",
       "      <td>control</td>\n",
       "      <td>stroke</td>\n",
       "      <td>stroke</td>\n",
       "    </tr>\n",
       "    <tr>\n",
       "      <th>448</th>\n",
       "      <td>control</td>\n",
       "      <td>stroke</td>\n",
       "      <td>stroke</td>\n",
       "    </tr>\n",
       "    <tr>\n",
       "      <th>449</th>\n",
       "      <td>control</td>\n",
       "      <td>stroke</td>\n",
       "      <td>stroke</td>\n",
       "    </tr>\n",
       "    <tr>\n",
       "      <th>450</th>\n",
       "      <td>control</td>\n",
       "      <td>stroke</td>\n",
       "      <td>stroke</td>\n",
       "    </tr>\n",
       "  </tbody>\n",
       "</table>\n",
       "<p>451 rows × 3 columns</p>\n",
       "</div>"
      ],
      "text/plain": [
       "         group thirty_days   365days\n",
       "0    treatment    no event  no event\n",
       "1    treatment    no event  no event\n",
       "2    treatment    no event  no event\n",
       "3    treatment    no event  no event\n",
       "4    treatment    no event  no event\n",
       "5    treatment    no event  no event\n",
       "6    treatment    no event  no event\n",
       "7    treatment    no event  no event\n",
       "8    treatment    no event  no event\n",
       "9    treatment    no event  no event\n",
       "..         ...         ...       ...\n",
       "441    control      stroke    stroke\n",
       "442    control      stroke    stroke\n",
       "443    control      stroke    stroke\n",
       "444    control      stroke    stroke\n",
       "445    control      stroke    stroke\n",
       "446    control      stroke    stroke\n",
       "447    control      stroke    stroke\n",
       "448    control      stroke    stroke\n",
       "449    control      stroke    stroke\n",
       "450    control      stroke    stroke\n",
       "\n",
       "[451 rows x 3 columns]"
      ]
     },
     "execution_count": 4,
     "metadata": {},
     "output_type": "execute_result"
    }
   ],
   "source": [
    "frames = [treatment,control]\n",
    "patients = pd.concat(frames,ignore_index=True)\n",
    "patients"
   ]
  },
  {
   "cell_type": "markdown",
   "metadata": {},
   "source": [
    "Shuffling The rows "
   ]
  },
  {
   "cell_type": "code",
   "execution_count": 5,
   "metadata": {},
   "outputs": [],
   "source": [
    "patients = patients.sample(frac=1).reset_index(drop=True)"
   ]
  },
  {
   "cell_type": "code",
   "execution_count": 6,
   "metadata": {},
   "outputs": [
    {
     "data": {
      "text/html": [
       "<div>\n",
       "<style>\n",
       "    .dataframe thead tr:only-child th {\n",
       "        text-align: right;\n",
       "    }\n",
       "\n",
       "    .dataframe thead th {\n",
       "        text-align: left;\n",
       "    }\n",
       "\n",
       "    .dataframe tbody tr th {\n",
       "        vertical-align: top;\n",
       "    }\n",
       "</style>\n",
       "<table border=\"1\" class=\"dataframe\">\n",
       "  <thead>\n",
       "    <tr style=\"text-align: right;\">\n",
       "      <th></th>\n",
       "      <th>group</th>\n",
       "      <th>thirty_days</th>\n",
       "      <th>365days</th>\n",
       "    </tr>\n",
       "  </thead>\n",
       "  <tbody>\n",
       "    <tr>\n",
       "      <th>0</th>\n",
       "      <td>control</td>\n",
       "      <td>no event</td>\n",
       "      <td>no event</td>\n",
       "    </tr>\n",
       "    <tr>\n",
       "      <th>1</th>\n",
       "      <td>control</td>\n",
       "      <td>no event</td>\n",
       "      <td>no event</td>\n",
       "    </tr>\n",
       "    <tr>\n",
       "      <th>2</th>\n",
       "      <td>treatment</td>\n",
       "      <td>stroke</td>\n",
       "      <td>stroke</td>\n",
       "    </tr>\n",
       "    <tr>\n",
       "      <th>3</th>\n",
       "      <td>treatment</td>\n",
       "      <td>no event</td>\n",
       "      <td>no event</td>\n",
       "    </tr>\n",
       "    <tr>\n",
       "      <th>4</th>\n",
       "      <td>control</td>\n",
       "      <td>no event</td>\n",
       "      <td>stroke</td>\n",
       "    </tr>\n",
       "    <tr>\n",
       "      <th>5</th>\n",
       "      <td>control</td>\n",
       "      <td>no event</td>\n",
       "      <td>no event</td>\n",
       "    </tr>\n",
       "    <tr>\n",
       "      <th>6</th>\n",
       "      <td>control</td>\n",
       "      <td>no event</td>\n",
       "      <td>no event</td>\n",
       "    </tr>\n",
       "    <tr>\n",
       "      <th>7</th>\n",
       "      <td>control</td>\n",
       "      <td>no event</td>\n",
       "      <td>no event</td>\n",
       "    </tr>\n",
       "    <tr>\n",
       "      <th>8</th>\n",
       "      <td>control</td>\n",
       "      <td>no event</td>\n",
       "      <td>no event</td>\n",
       "    </tr>\n",
       "    <tr>\n",
       "      <th>9</th>\n",
       "      <td>treatment</td>\n",
       "      <td>no event</td>\n",
       "      <td>no event</td>\n",
       "    </tr>\n",
       "    <tr>\n",
       "      <th>...</th>\n",
       "      <td>...</td>\n",
       "      <td>...</td>\n",
       "      <td>...</td>\n",
       "    </tr>\n",
       "    <tr>\n",
       "      <th>441</th>\n",
       "      <td>control</td>\n",
       "      <td>no event</td>\n",
       "      <td>no event</td>\n",
       "    </tr>\n",
       "    <tr>\n",
       "      <th>442</th>\n",
       "      <td>treatment</td>\n",
       "      <td>no event</td>\n",
       "      <td>no event</td>\n",
       "    </tr>\n",
       "    <tr>\n",
       "      <th>443</th>\n",
       "      <td>control</td>\n",
       "      <td>no event</td>\n",
       "      <td>no event</td>\n",
       "    </tr>\n",
       "    <tr>\n",
       "      <th>444</th>\n",
       "      <td>control</td>\n",
       "      <td>no event</td>\n",
       "      <td>no event</td>\n",
       "    </tr>\n",
       "    <tr>\n",
       "      <th>445</th>\n",
       "      <td>control</td>\n",
       "      <td>no event</td>\n",
       "      <td>no event</td>\n",
       "    </tr>\n",
       "    <tr>\n",
       "      <th>446</th>\n",
       "      <td>control</td>\n",
       "      <td>no event</td>\n",
       "      <td>no event</td>\n",
       "    </tr>\n",
       "    <tr>\n",
       "      <th>447</th>\n",
       "      <td>control</td>\n",
       "      <td>stroke</td>\n",
       "      <td>stroke</td>\n",
       "    </tr>\n",
       "    <tr>\n",
       "      <th>448</th>\n",
       "      <td>treatment</td>\n",
       "      <td>no event</td>\n",
       "      <td>no event</td>\n",
       "    </tr>\n",
       "    <tr>\n",
       "      <th>449</th>\n",
       "      <td>treatment</td>\n",
       "      <td>no event</td>\n",
       "      <td>no event</td>\n",
       "    </tr>\n",
       "    <tr>\n",
       "      <th>450</th>\n",
       "      <td>control</td>\n",
       "      <td>no event</td>\n",
       "      <td>no event</td>\n",
       "    </tr>\n",
       "  </tbody>\n",
       "</table>\n",
       "<p>451 rows × 3 columns</p>\n",
       "</div>"
      ],
      "text/plain": [
       "         group thirty_days   365days\n",
       "0      control    no event  no event\n",
       "1      control    no event  no event\n",
       "2    treatment      stroke    stroke\n",
       "3    treatment    no event  no event\n",
       "4      control    no event    stroke\n",
       "5      control    no event  no event\n",
       "6      control    no event  no event\n",
       "7      control    no event  no event\n",
       "8      control    no event  no event\n",
       "9    treatment    no event  no event\n",
       "..         ...         ...       ...\n",
       "441    control    no event  no event\n",
       "442  treatment    no event  no event\n",
       "443    control    no event  no event\n",
       "444    control    no event  no event\n",
       "445    control    no event  no event\n",
       "446    control    no event  no event\n",
       "447    control      stroke    stroke\n",
       "448  treatment    no event  no event\n",
       "449  treatment    no event  no event\n",
       "450    control    no event  no event\n",
       "\n",
       "[451 rows x 3 columns]"
      ]
     },
     "execution_count": 6,
     "metadata": {},
     "output_type": "execute_result"
    }
   ],
   "source": [
    "patients"
   ]
  },
  {
   "cell_type": "markdown",
   "metadata": {},
   "source": [
    "** Summary Statistics : ** summarizing a large amount of data with a single number  like \n",
    "* The proportion of people who had a stroke in the treatment group : 45/224 = 20%\n",
    "helps getting a first insight information.\n",
    "\n",
    "<br/>\n",
    "Still caution is important, many parameters should be taken into account and hastly inference could be misleading."
   ]
  },
  {
   "cell_type": "markdown",
   "metadata": {},
   "source": [
    "## 1.2 Data Basics "
   ]
  },
  {
   "cell_type": "markdown",
   "metadata": {},
   "source": [
    "Each **row** of the matrice represents a **case**. And each column a **variable**"
   ]
  },
  {
   "cell_type": "markdown",
   "metadata": {},
   "source": [
    "Types of variables"
   ]
  },
  {
   "cell_type": "code",
   "execution_count": 7,
   "metadata": {},
   "outputs": [
    {
     "data": {
      "image/png": "[encoded data removed]",
      "text/plain": [
       "<IPython.core.display.Image object>"
      ]
     },
     "execution_count": 7,
     "metadata": {},
     "output_type": "execute_result"
    }
   ],
   "source": [
    "from IPython.display import Image\n",
    "Image(filename=\"data_types.png\")"
   ]
  },
  {
   "cell_type": "markdown",
   "metadata": {},
   "source": [
    "## 1.3 Overview of data collection principles"
   ]
  },
  {
   "cell_type": "markdown",
   "metadata": {},
   "source": [
    "**Population :** the target of a statistical analysis."
   ]
  },
  {
   "cell_type": "markdown",
   "metadata": {},
   "source": [
    "** Sample : ** being too expensive to collect an exhaustivity of data in  a population, we tend take a small fraction of the population. This can be done by raffles, even thou there is always a risk to take biased data."
   ]
  },
  {
   "cell_type": "markdown",
   "metadata": {},
   "source": [
    "**Anecdotal evidence : ** data collected in a haphazard fashion, that may only represents extraordinary cases."
   ]
  },
  {
   "cell_type": "markdown",
   "metadata": {},
   "source": [
    "It's important to avoid commn traps when collecting and interpreting data :\n",
    "* **non-reponse : ** a big non response rate makes it hard to get a clear answer \n",
    "* **convenience sample : ** elements easily found in gathering data (close neighborhood for instance) generates a big bias"
   ]
  },
  {
   "cell_type": "markdown",
   "metadata": {},
   "source": [
    "** Explanatory and response variables : ** if we suspect a data **X** to affect another **Y**. Then we can call X the **explanatory variable** and Y the **response variable**.\n",
    "<br/>\n",
    "Ex : poverty(explanatory) affecting federal spending(response) in a county."
   ]
  },
  {
   "cell_type": "markdown",
   "metadata": {},
   "source": [
    "## 1.4 Observational Studies and sampling strategies"
   ]
  },
  {
   "cell_type": "markdown",
   "metadata": {},
   "source": [
    "** Prospective study : ** indentifies individuals and collects information as events unfold"
   ]
  },
  {
   "cell_type": "markdown",
   "metadata": {},
   "source": [
    "** Retrospective studies : ** collect data after events have taken place"
   ]
  },
  {
   "cell_type": "markdown",
   "metadata": {},
   "source": [
    "** Sampling methods **:\n",
    "*  **Simple Random sampling : ** Simple raffle like paper in a bucket\n",
    "*  **Stratified sampling    : ** divide the population in stratas of identical attributes\n",
    "*  **Cluster sample         : **      \n",
    "*  **Multistage Sampe       : **"
   ]
  },
  {
   "cell_type": "markdown",
   "metadata": {},
   "source": [
    "## 1.5 Experiments : "
   ]
  },
  {
   "cell_type": "markdown",
   "metadata": {},
   "source": [
    "Principles of experiment design : \n",
    "* **Controlling :** control differences in an experiment (control group)\n",
    "* **Randomization :** randomizing pateints into treatment group\n",
    "* **Replication :** the more cases researchers observe, the more accurately they can estimate the effect\n",
    "* **Blocking :** grouping individuals into specific blocks"
   ]
  },
  {
   "cell_type": "code",
   "execution_count": 8,
   "metadata": {},
   "outputs": [
    {
     "data": {
      "image/png": "[encoded data removed]",
      "text/plain": [
       "<IPython.core.display.Image object>"
      ]
     },
     "execution_count": 8,
     "metadata": {},
     "output_type": "execute_result"
    }
   ],
   "source": [
    "from IPython.display import Image\n",
    "Image(filename=\"blocking.png\")"
   ]
  },
  {
   "cell_type": "markdown",
   "metadata": {},
   "source": [
    "## 1.6 Examining Numerical Data"
   ]
  },
  {
   "cell_type": "markdown",
   "metadata": {},
   "source": [
    "using the **email50** dataset : "
   ]
  },
  {
   "cell_type": "code",
   "execution_count": 9,
   "metadata": {},
   "outputs": [],
   "source": [
    "#importing plotting libs\n",
    "import matplotlib.pyplot as plt\n",
    "%matplotlib inline"
   ]
  },
  {
   "cell_type": "code",
   "execution_count": 10,
   "metadata": {},
   "outputs": [
    {
     "data": {
      "text/html": [
       "<div>\n",
       "<style>\n",
       "    .dataframe thead tr:only-child th {\n",
       "        text-align: right;\n",
       "    }\n",
       "\n",
       "    .dataframe thead th {\n",
       "        text-align: left;\n",
       "    }\n",
       "\n",
       "    .dataframe tbody tr th {\n",
       "        vertical-align: top;\n",
       "    }\n",
       "</style>\n",
       "<table border=\"1\" class=\"dataframe\">\n",
       "  <thead>\n",
       "    <tr style=\"text-align: right;\">\n",
       "      <th></th>\n",
       "      <th>spam</th>\n",
       "      <th>to_multiple</th>\n",
       "      <th>from</th>\n",
       "      <th>cc</th>\n",
       "      <th>sent_email</th>\n",
       "      <th>time</th>\n",
       "      <th>image</th>\n",
       "      <th>attach</th>\n",
       "      <th>dollar</th>\n",
       "      <th>winner</th>\n",
       "      <th>...</th>\n",
       "      <th>viagra</th>\n",
       "      <th>password</th>\n",
       "      <th>num_char</th>\n",
       "      <th>line_breaks</th>\n",
       "      <th>format</th>\n",
       "      <th>re_subj</th>\n",
       "      <th>exclaim_subj</th>\n",
       "      <th>urgent_subj</th>\n",
       "      <th>exclaim_mess</th>\n",
       "      <th>number</th>\n",
       "    </tr>\n",
       "  </thead>\n",
       "  <tbody>\n",
       "    <tr>\n",
       "      <th>0</th>\n",
       "      <td>0</td>\n",
       "      <td>0</td>\n",
       "      <td>1</td>\n",
       "      <td>0</td>\n",
       "      <td>1</td>\n",
       "      <td>2012-01-04 05:19:16</td>\n",
       "      <td>0</td>\n",
       "      <td>0</td>\n",
       "      <td>0</td>\n",
       "      <td>no</td>\n",
       "      <td>...</td>\n",
       "      <td>0</td>\n",
       "      <td>0</td>\n",
       "      <td>21.705</td>\n",
       "      <td>551</td>\n",
       "      <td>1</td>\n",
       "      <td>1</td>\n",
       "      <td>0</td>\n",
       "      <td>0</td>\n",
       "      <td>8</td>\n",
       "      <td>small</td>\n",
       "    </tr>\n",
       "    <tr>\n",
       "      <th>1</th>\n",
       "      <td>0</td>\n",
       "      <td>0</td>\n",
       "      <td>1</td>\n",
       "      <td>0</td>\n",
       "      <td>0</td>\n",
       "      <td>2012-02-16 12:10:06</td>\n",
       "      <td>0</td>\n",
       "      <td>0</td>\n",
       "      <td>0</td>\n",
       "      <td>no</td>\n",
       "      <td>...</td>\n",
       "      <td>0</td>\n",
       "      <td>0</td>\n",
       "      <td>7.011</td>\n",
       "      <td>183</td>\n",
       "      <td>1</td>\n",
       "      <td>0</td>\n",
       "      <td>0</td>\n",
       "      <td>0</td>\n",
       "      <td>1</td>\n",
       "      <td>big</td>\n",
       "    </tr>\n",
       "    <tr>\n",
       "      <th>2</th>\n",
       "      <td>1</td>\n",
       "      <td>0</td>\n",
       "      <td>1</td>\n",
       "      <td>4</td>\n",
       "      <td>0</td>\n",
       "      <td>2012-01-04 07:36:23</td>\n",
       "      <td>0</td>\n",
       "      <td>2</td>\n",
       "      <td>0</td>\n",
       "      <td>no</td>\n",
       "      <td>...</td>\n",
       "      <td>0</td>\n",
       "      <td>0</td>\n",
       "      <td>0.631</td>\n",
       "      <td>28</td>\n",
       "      <td>0</td>\n",
       "      <td>0</td>\n",
       "      <td>0</td>\n",
       "      <td>0</td>\n",
       "      <td>2</td>\n",
       "      <td>none</td>\n",
       "    </tr>\n",
       "    <tr>\n",
       "      <th>3</th>\n",
       "      <td>0</td>\n",
       "      <td>0</td>\n",
       "      <td>1</td>\n",
       "      <td>0</td>\n",
       "      <td>0</td>\n",
       "      <td>2012-01-04 09:49:52</td>\n",
       "      <td>0</td>\n",
       "      <td>0</td>\n",
       "      <td>0</td>\n",
       "      <td>no</td>\n",
       "      <td>...</td>\n",
       "      <td>0</td>\n",
       "      <td>0</td>\n",
       "      <td>2.454</td>\n",
       "      <td>61</td>\n",
       "      <td>0</td>\n",
       "      <td>0</td>\n",
       "      <td>0</td>\n",
       "      <td>0</td>\n",
       "      <td>1</td>\n",
       "      <td>small</td>\n",
       "    </tr>\n",
       "    <tr>\n",
       "      <th>4</th>\n",
       "      <td>0</td>\n",
       "      <td>0</td>\n",
       "      <td>1</td>\n",
       "      <td>0</td>\n",
       "      <td>0</td>\n",
       "      <td>2012-01-27 01:34:45</td>\n",
       "      <td>0</td>\n",
       "      <td>0</td>\n",
       "      <td>9</td>\n",
       "      <td>no</td>\n",
       "      <td>...</td>\n",
       "      <td>0</td>\n",
       "      <td>1</td>\n",
       "      <td>41.623</td>\n",
       "      <td>1088</td>\n",
       "      <td>1</td>\n",
       "      <td>0</td>\n",
       "      <td>0</td>\n",
       "      <td>0</td>\n",
       "      <td>43</td>\n",
       "      <td>small</td>\n",
       "    </tr>\n",
       "  </tbody>\n",
       "</table>\n",
       "<p>5 rows × 21 columns</p>\n",
       "</div>"
      ],
      "text/plain": [
       "   spam  to_multiple  from  cc  sent_email                 time  image  \\\n",
       "0     0            0     1   0           1  2012-01-04 05:19:16      0   \n",
       "1     0            0     1   0           0  2012-02-16 12:10:06      0   \n",
       "2     1            0     1   4           0  2012-01-04 07:36:23      0   \n",
       "3     0            0     1   0           0  2012-01-04 09:49:52      0   \n",
       "4     0            0     1   0           0  2012-01-27 01:34:45      0   \n",
       "\n",
       "   attach  dollar winner   ...    viagra  password  num_char  line_breaks  \\\n",
       "0       0       0     no   ...         0         0    21.705          551   \n",
       "1       0       0     no   ...         0         0     7.011          183   \n",
       "2       2       0     no   ...         0         0     0.631           28   \n",
       "3       0       0     no   ...         0         0     2.454           61   \n",
       "4       0       9     no   ...         0         1    41.623         1088   \n",
       "\n",
       "   format  re_subj  exclaim_subj  urgent_subj  exclaim_mess  number  \n",
       "0       1        1             0            0             8   small  \n",
       "1       1        0             0            0             1     big  \n",
       "2       0        0             0            0             2    none  \n",
       "3       0        0             0            0             1   small  \n",
       "4       1        0             0            0            43   small  \n",
       "\n",
       "[5 rows x 21 columns]"
      ]
     },
     "execution_count": 10,
     "metadata": {},
     "output_type": "execute_result"
    }
   ],
   "source": [
    "e50 = pd.read_csv('Dataset/email50.csv')\n",
    "e50.head()"
   ]
  },
  {
   "cell_type": "markdown",
   "metadata": {},
   "source": [
    "### 1.6.1 Scatterplot"
   ]
  },
  {
   "cell_type": "markdown",
   "metadata": {},
   "source": [
    "Scatterplot offers a case-by-case view of data for 2 numerical variables"
   ]
  },
  {
   "cell_type": "code",
   "execution_count": 11,
   "metadata": {},
   "outputs": [
    {
     "data": {
      "text/plain": [
       "<matplotlib.text.Text at 0x8d1e5d0>"
      ]
     },
     "execution_count": 11,
     "metadata": {},
     "output_type": "execute_result"
    },
    {
     "data": {
      "image/png": "[encoded data removed]",
      "text/plain": [
       "<matplotlib.figure.Figure at 0x8ce5e10>"
      ]
     },
     "metadata": {},
     "output_type": "display_data"
    }
   ],
   "source": [
    "e50.plot.scatter(figsize=(12,6),x='num_char',y='line_breaks')\n",
    "plt.xlabel(\"Number of characters (in thousands)\",fontsize=16)\n",
    "plt.ylabel('Number of Lines',fontsize=16)"
   ]
  },
  {
   "cell_type": "markdown",
   "metadata": {},
   "source": [
    "## The mean "
   ]
  },
  {
   "cell_type": "markdown",
   "metadata": {},
   "source": [
    "Sometimes called the average, is a common way to to measure the center of the distribution. "
   ]
  },
  {
   "cell_type": "markdown",
   "metadata": {},
   "source": [
    "Mean of the number of characters in a mail : "
   ]
  },
  {
   "cell_type": "code",
   "execution_count": 13,
   "metadata": {},
   "outputs": [
    {
     "data": {
      "text/plain": [
       "11.511877551020408"
      ]
     },
     "execution_count": 13,
     "metadata": {},
     "output_type": "execute_result"
    }
   ],
   "source": [
    "e50['num_char'].mean()"
   ]
  },
  {
   "cell_type": "markdown",
   "metadata": {},
   "source": [
    "* The sample **mean** is usualy refered to as $\\bar{X}$"
   ]
  },
  {
   "cell_type": "markdown",
   "metadata": {},
   "source": [
    "**rule : **\n",
    "<br/>\n",
    "$\\bar{X}$ =  $\\frac{1}{n}$  ($\\displaystyle\\sum_{i=1}^{n} x_i$) = $\\frac{x_1+x_2+\\dots+x_n}{n}$"
   ]
  },
  {
   "cell_type": "markdown",
   "metadata": {},
   "source": [
    "* The population mean is refered to as $\\mu$"
   ]
  },
  {
   "cell_type": "markdown",
   "metadata": {},
   "source": [
    "## 1.6.2 Histograms"
   ]
  },
  {
   "cell_type": "markdown",
   "metadata": {},
   "source": [
    "Histograms provide a view of the **data density**"
   ]
  },
  {
   "cell_type": "code",
   "execution_count": 24,
   "metadata": {},
   "outputs": [
    {
     "data": {
      "text/plain": [
       "<matplotlib.axes._subplots.AxesSubplot at 0x12ec650>"
      ]
     },
     "execution_count": 24,
     "metadata": {},
     "output_type": "execute_result"
    },
    {
     "data": {
      "image/png": "[encoded data removed]",
      "text/plain": [
       "<matplotlib.figure.Figure at 0xa36a9b0>"
      ]
     },
     "metadata": {},
     "output_type": "display_data"
    }
   ],
   "source": [
    "e50.plot.hist(x='num_char',y='exclaim_mess')"
   ]
  },
  {
   "cell_type": "code",
   "execution_count": 36,
   "metadata": {},
   "outputs": [],
   "source": [
    "ar = np.linspace(0, 65, 13, endpoint=False)"
   ]
  },
  {
   "cell_type": "code",
   "execution_count": 39,
   "metadata": {},
   "outputs": [
    {
     "data": {
      "text/plain": [
       "array([ 0,  5, 10, 15, 20, 25, 30, 35, 40, 45, 50, 55, 60])"
      ]
     },
     "execution_count": 39,
     "metadata": {},
     "output_type": "execute_result"
    }
   ],
   "source": [
    "ar = ar.astype(int)\n",
    "ar"
   ]
  },
  {
   "cell_type": "code",
   "execution_count": 42,
   "metadata": {},
   "outputs": [],
   "source": [
    "x = pd.cut(e50['num_char'],bins=ar)"
   ]
  },
  {
   "cell_type": "code",
   "execution_count": 43,
   "metadata": {},
   "outputs": [
    {
     "data": {
      "text/plain": [
       "(0, 5]      19\n",
       "(5, 10]     12\n",
       "(10, 15]     6\n",
       "(25, 30]     5\n",
       "(20, 25]     3\n",
       "(40, 45]     2\n",
       "(15, 20]     1\n",
       "(55, 60]     0\n",
       "(50, 55]     0\n",
       "(45, 50]     0\n",
       "(35, 40]     0\n",
       "(30, 35]     0\n",
       "Name: num_char, dtype: int64"
      ]
     },
     "execution_count": 43,
     "metadata": {},
     "output_type": "execute_result"
    }
   ],
   "source": [
    "x.value_counts()"
   ]
  },
  {
   "cell_type": "code",
   "execution_count": 45,
   "metadata": {},
   "outputs": [],
   "source": [
    "freq = x.value_counts()"
   ]
  },
  {
   "cell_type": "code",
   "execution_count": 51,
   "metadata": {},
   "outputs": [
    {
     "data": {
      "text/plain": [
       "CategoricalIndex([  (0, 5],  (5, 10], (10, 15], (25, 30], (20, 25], (40, 45],\n",
       "                  (15, 20], (55, 60], (50, 55], (45, 50], (35, 40], (30, 35]],\n",
       "                 categories=[(0, 5], (5, 10], (10, 15], (15, 20], (20, 25], (25, 30], (30, 35], (35, 40], ...], ordered=True, dtype='category')"
      ]
     },
     "execution_count": 51,
     "metadata": {},
     "output_type": "execute_result"
    }
   ],
   "source": [
    "freq.index"
   ]
  },
  {
   "cell_type": "code",
   "execution_count": 50,
   "metadata": {},
   "outputs": [
    {
     "data": {
      "text/plain": [
       "<matplotlib.axes._subplots.AxesSubplot at 0xa545fb0>"
      ]
     },
     "execution_count": 50,
     "metadata": {},
     "output_type": "execute_result"
    },
    {
     "data": {
      "image/png": "[encoded data removed]",
      "text/plain": [
       "<matplotlib.figure.Figure at 0xa42b110>"
      ]
     },
     "metadata": {},
     "output_type": "display_data"
    }
   ],
   "source": [
    "freq.plot.hist(x=freq.index)"
   ]
  },
  {
   "cell_type": "code",
   "execution_count": 55,
   "metadata": {},
   "outputs": [],
   "source": [
    "f = pd.Series(freq.index.values, index=freq )"
   ]
  },
  {
   "cell_type": "code",
   "execution_count": 57,
   "metadata": {},
   "outputs": [
    {
     "data": {
      "text/plain": [
       "num_char\n",
       "19      (0, 5]\n",
       "12     (5, 10]\n",
       "6     (10, 15]\n",
       "5     (25, 30]\n",
       "3     (20, 25]\n",
       "2     (40, 45]\n",
       "1     (15, 20]\n",
       "0     (55, 60]\n",
       "0     (50, 55]\n",
       "0     (45, 50]\n",
       "0     (35, 40]\n",
       "0     (30, 35]\n",
       "dtype: category\n",
       "Categories (12, interval[int64]): [(0, 5] < (5, 10] < (10, 15] < (15, 20] ... (40, 45] < (45, 50] < (50, 55] < (55, 60]]"
      ]
     },
     "execution_count": 57,
     "metadata": {},
     "output_type": "execute_result"
    }
   ],
   "source": [
    "f"
   ]
  },
  {
   "cell_type": "code",
   "execution_count": null,
   "metadata": {},
   "outputs": [],
   "source": []
  },
  {
   "cell_type": "code",
   "execution_count": null,
   "metadata": {},
   "outputs": [],
   "source": []
  }
 ],
 "metadata": {
  "kernelspec": {
   "display_name": "Python 3",
   "language": "python",
   "name": "python3"
  },
  "language_info": {
   "codemirror_mode": {
    "name": "ipython",
    "version": 3
   },
   "file_extension": ".py",
   "mimetype": "text/x-python",
   "name": "python",
   "nbconvert_exporter": "python",
   "pygments_lexer": "ipython3",
   "version": "3.6.1"
  }
 },
 "nbformat": 4,
 "nbformat_minor": 2
}
